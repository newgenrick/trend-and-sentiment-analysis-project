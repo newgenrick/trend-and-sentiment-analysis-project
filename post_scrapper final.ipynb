{
 "cells": [
  {
   "cell_type": "markdown",
   "metadata": {},
   "source": [
    "# CISCO Post Scraper\n",
    "\n",
    "#### LOADING DEPENDENCIES"
   ]
  },
  {
   "cell_type": "code",
   "execution_count": 1,
   "metadata": {
    "collapsed": true
   },
   "outputs": [],
   "source": [
    "import requests\n",
    "import bs4"
   ]
  },
  {
   "cell_type": "markdown",
   "metadata": {},
   "source": [
    "##### class post_info\n",
    "\n",
    "\n",
    "Creating post_info class which bundles all relevant info to a post\n"
   ]
  },
  {
   "cell_type": "code",
   "execution_count": 2,
   "metadata": {
    "collapsed": false
   },
   "outputs": [],
   "source": [
    "class post_info:\n",
    "    def __init__(self,post,date,views,upvotes,replies):\n",
    "        self.post = post\n",
    "        self.date = date\n",
    "        self.upvotes = int(upvotes)\n",
    "        self.replies = int(replies)\n",
    "        self.views = int(views)\n",
    "        \n",
    "    def disp_info(self):\n",
    "        print(\"\\n\\nPost : \" +self.post+\"\\nDate : \"+self.date+ \"\\nReplies : \"+str(self.replies) +\"\\t\\t views : \"+str(self.views)+\"\\t\\t upvotes :\"+str(self.upvotes ))"
   ]
  },
  {
   "cell_type": "markdown",
   "metadata": {},
   "source": [
    "\n",
    "#### SCRAPING HELPER FUNCTIONS\n",
    "\n",
    "##### load_page(url)\n",
    "\n",
    "Thisfunction loads all the post in the page of given \"url\" and returns a list of post_info class object\n",
    "\n",
    "parameter(s) :\n",
    "    url : page link"
   ]
  },
  {
   "cell_type": "code",
   "execution_count": 3,
   "metadata": {
    "collapsed": true
   },
   "outputs": [],
   "source": [
    "def load_page(url):\n",
    "    res = requests.get(url)\n",
    "    soup = bs4.BeautifulSoup(res.text,'lxml')\n",
    "    \n",
    "    posts = []\n",
    "    \n",
    "    raw_replies = (soup.select(\"div.lia-quilt-column-alley-left tr.lia-list-row div.lia-component-messages-column-thread-replies-count span\"))\n",
    "    n_rep = len(raw_replies)\n",
    "    \n",
    "    replies = []\n",
    "    for reply in raw_replies:\n",
    "        replies.append(reply.getText())\n",
    "        \n",
    "        \n",
    "    raw_views = soup.select(\"div.lia-quilt-column-alley-left tr.lia-list-row div.lia-component-messages-column-topic-views-count span\")\n",
    "    n_views = len(raw_views)\n",
    "    \n",
    "    views = []\n",
    "    for view in raw_views:\n",
    "        views.append(view.getText())\n",
    "        \n",
    "        \n",
    "    raw_dates = (soup.select(\"div.lia-quilt-column-alley-left tr.lia-list-row div.lia-info-area > span:nth-of-type(1) span.local-date\"))\n",
    "    n_dates = len(raw_dates)\n",
    "    \n",
    "    dates = []\n",
    "    for date in raw_dates:\n",
    "        dates.append(date.getText()[1:])\n",
    "        \n",
    "    \n",
    "    raw_titles = (soup.select(\"div.lia-quilt-column-alley-left tr.lia-list-row div.MessageSubject a.lia-custom-event.lia-link-navigation.page-link\"))\n",
    "    n_titles = len(raw_titles)\n",
    "    \n",
    "    titles = []\n",
    "    for title in raw_titles:\n",
    "        _t = title.getText().split()\n",
    "        titles.append(\" \".join(_t))\n",
    "    \n",
    "    \n",
    "    raw_upvotes = soup.select(\"div.lia-quilt-column-alley-left tr.lia-list-row div.custom-grid-kudos span\")\n",
    "    n_upvotes = len(raw_upvotes)\n",
    "    \n",
    "    upvotes = []\n",
    "    for upvote in raw_upvotes:\n",
    "        upvotes.append(upvote.getText()[4:-3])\n",
    "    \n",
    "        \n",
    "    if n_rep == n_upvotes == n_titles == n_dates == n_views:\n",
    "        \n",
    "        print(\"number of posts : \"+str(n_rep))\n",
    "        \n",
    "        for i in range(n_titles):\n",
    "            posts.append(post_info(titles[i],dates[i],views[i],upvotes[i],replies[i]))\n",
    "        \n",
    "        return posts\n",
    "    \n",
    "    else:\n",
    "        \n",
    "        print(\"error encountered : unequal data contraints\")\n",
    "        \n",
    "        print(\"number of replies : \"+str(n_rep))\n",
    "        print(\"number of views \" + str(n_views))\n",
    "        print(\"number of upvotes \" +str(n_upvotes))\n",
    "        print(\"number of dates \" +str(n_dates))\n",
    "        print(\"number of titles \"+str(n_titles))\n",
    "        \n",
    "        return None"
   ]
  },
  {
   "cell_type": "markdown",
   "metadata": {},
   "source": [
    "##### load_topic(base_url, num_pages, start_page = 50,sep_pages = False, display = False)\n",
    "\n",
    "\n",
    "This function loads pages from a particular topics base url\n",
    "\n",
    "\n",
    "parameters : \n",
    "\n",
    "\n",
    "    base_url : base url of given topic\n",
    "    \n",
    "    num_pages : number of pages to be loaded\n",
    "    \n",
    "    start_page : starting page number for scraping\n",
    "    \n",
    "    sep_pages : if True returns list of list of page posts\n",
    "    \n",
    "    display : Set true to display results after completion"
   ]
  },
  {
   "cell_type": "code",
   "execution_count": 4,
   "metadata": {
    "collapsed": true
   },
   "outputs": [],
   "source": [
    "def load_topic(base_url, num_pages, start_page = 50,sep_pages = False, display = False):\n",
    "    \n",
    "    all_posts = []\n",
    "    sep_posts = []\n",
    "    \n",
    "    for i in range(num_pages):\n",
    "        \n",
    "        load_url = base_url + str(start_page+i)\n",
    "        page_posts = load_page(load_url)\n",
    "        \n",
    "        sep_posts.append(page_posts)\n",
    "        all_posts.extend(page_posts)\n",
    "        \n",
    "        if page_posts != None:\n",
    "            print(\"page number : \"+str(start_page+i) + \" loaded successfully\")\n",
    "        else:\n",
    "            print(\"page number : \"+str(start_page+i) + \" load error\")\n",
    "            return all_posts\n",
    "        \n",
    "    if display:\n",
    "        for i in range(len(all_posts)):\n",
    "            all_posts[i].disp_info()\n",
    "            \n",
    "    if sep_pages :\n",
    "        return sep_posts\n",
    "    else:\n",
    "        return all_posts\n",
    "        "
   ]
  },
  {
   "cell_type": "code",
   "execution_count": 63,
   "metadata": {
    "collapsed": false
   },
   "outputs": [
    {
     "name": "stdout",
     "output_type": "stream",
     "text": [
      "number of posts : 15\n",
      "page number : 50 loaded successfully\n",
      "number of posts : 15\n",
      "page number : 51 loaded successfully\n",
      "number of posts : 15\n",
      "page number : 52 loaded successfully\n",
      "number of posts : 15\n",
      "page number : 53 loaded successfully\n",
      "number of posts : 15\n",
      "page number : 54 loaded successfully\n",
      "number of posts : 15\n",
      "page number : 55 loaded successfully\n",
      "number of posts : 15\n",
      "page number : 56 loaded successfully\n",
      "number of posts : 15\n",
      "page number : 57 loaded successfully\n",
      "number of posts : 15\n",
      "page number : 58 loaded successfully\n",
      "number of posts : 15\n",
      "page number : 59 loaded successfully\n",
      "number of posts : 15\n",
      "page number : 60 loaded successfully\n",
      "number of posts : 15\n",
      "page number : 61 loaded successfully\n",
      "number of posts : 15\n",
      "page number : 62 loaded successfully\n",
      "number of posts : 15\n",
      "page number : 63 loaded successfully\n",
      "number of posts : 15\n",
      "page number : 64 loaded successfully\n",
      "number of posts : 15\n",
      "page number : 65 loaded successfully\n",
      "number of posts : 15\n",
      "page number : 66 loaded successfully\n",
      "number of posts : 15\n",
      "page number : 67 loaded successfully\n",
      "number of posts : 15\n",
      "page number : 68 loaded successfully\n",
      "number of posts : 15\n",
      "page number : 69 loaded successfully\n",
      "number of posts : 15\n",
      "page number : 70 loaded successfully\n",
      "number of posts : 15\n",
      "page number : 71 loaded successfully\n",
      "number of posts : 15\n",
      "page number : 72 loaded successfully\n",
      "number of posts : 15\n",
      "page number : 73 loaded successfully\n",
      "number of posts : 15\n",
      "page number : 74 loaded successfully\n",
      "number of posts : 15\n",
      "page number : 75 loaded successfully\n",
      "number of posts : 15\n",
      "page number : 76 loaded successfully\n",
      "number of posts : 15\n",
      "page number : 77 loaded successfully\n",
      "number of posts : 15\n",
      "page number : 78 loaded successfully\n",
      "number of posts : 15\n",
      "page number : 79 loaded successfully\n"
     ]
    }
   ],
   "source": [
    "base_url = 'https://supportforums.cisco.com/t5/lan-switching-and-routing/bd-p/6016-discussions-lan-switching-routing/page/'\n",
    "posts = load_topic(base_url, num_pages = 30, start_page = 50,sep_pages = False, display = False )"
   ]
  },
  {
   "cell_type": "code",
   "execution_count": 64,
   "metadata": {
    "collapsed": false
   },
   "outputs": [
    {
     "name": "stdout",
     "output_type": "stream",
     "text": [
      "450\n"
     ]
    }
   ],
   "source": [
    "print(len(posts))"
   ]
  },
  {
   "cell_type": "code",
   "execution_count": 76,
   "metadata": {
    "collapsed": false
   },
   "outputs": [
    {
     "name": "stdout",
     "output_type": "stream",
     "text": [
      "\n",
      "\n",
      "Post : SSH ( secure shelling )\n",
      "Date : 02-02-2017\n",
      "Replies : 3\t\t views : 137\t\t upvotes :0\n"
     ]
    }
   ],
   "source": [
    "posts[10].disp_info()"
   ]
  },
  {
   "cell_type": "code",
   "execution_count": 5,
   "metadata": {
    "collapsed": false
   },
   "outputs": [],
   "source": [
    "import string\n",
    "def save_csv(posts,filename):\n",
    "    \n",
    "    csv = open(filename, \"w\",encoding='utf-8')\n",
    "    columnTitleRow = \"Post,Date,Views,Replies,Upvotes\\n\"\n",
    "    csv.write(columnTitleRow)\n",
    "    table = str.maketrans({key: None for key in string.punctuation})\n",
    "    \n",
    "    for post in posts:\n",
    "        post_string = post.post.translate(table) \n",
    "        row = post_string + \",\" + post.date + \",\" + str(post.views) + \",\" + str(post.replies) + \",\" + str(post.upvotes) + \"\\n\"\n",
    "        csv.write(row)\n",
    "        "
   ]
  },
  {
   "cell_type": "code",
   "execution_count": 66,
   "metadata": {
    "collapsed": false
   },
   "outputs": [],
   "source": [
    "save_csv(posts,\"posts.csv\")"
   ]
  },
  {
   "cell_type": "code",
   "execution_count": 74,
   "metadata": {
    "collapsed": false
   },
   "outputs": [
    {
     "name": "stdout",
     "output_type": "stream",
     "text": [
      "10050\n"
     ]
    },
    {
     "data": {
      "text/html": [
       "<div>\n",
       "<style scoped>\n",
       "    .dataframe tbody tr th:only-of-type {\n",
       "        vertical-align: middle;\n",
       "    }\n",
       "\n",
       "    .dataframe tbody tr th {\n",
       "        vertical-align: top;\n",
       "    }\n",
       "\n",
       "    .dataframe thead th {\n",
       "        text-align: right;\n",
       "    }\n",
       "</style>\n",
       "<table border=\"1\" class=\"dataframe\">\n",
       "  <thead>\n",
       "    <tr style=\"text-align: right;\">\n",
       "      <th></th>\n",
       "      <th>Post</th>\n",
       "      <th>Date</th>\n",
       "      <th>Views</th>\n",
       "      <th>Replies</th>\n",
       "      <th>Upvotes</th>\n",
       "    </tr>\n",
       "  </thead>\n",
       "  <tbody>\n",
       "    <tr>\n",
       "      <th>0</th>\n",
       "      <td>2960x port updown when Vivi box in us</td>\n",
       "      <td>2018-05-16</td>\n",
       "      <td>157</td>\n",
       "      <td>2</td>\n",
       "      <td>0</td>\n",
       "    </tr>\n",
       "    <tr>\n",
       "      <th>1</th>\n",
       "      <td>best way to configuration switch port</td>\n",
       "      <td>2018-05-17</td>\n",
       "      <td>202</td>\n",
       "      <td>6</td>\n",
       "      <td>5</td>\n",
       "    </tr>\n",
       "    <tr>\n",
       "      <th>2</th>\n",
       "      <td>Nexus 3548Block vlan communication whe</td>\n",
       "      <td>2018-05-17</td>\n",
       "      <td>71</td>\n",
       "      <td>2</td>\n",
       "      <td>0</td>\n",
       "    </tr>\n",
       "    <tr>\n",
       "      <th>3</th>\n",
       "      <td>ACL confusion</td>\n",
       "      <td>2018-05-17</td>\n",
       "      <td>158</td>\n",
       "      <td>4</td>\n",
       "      <td>0</td>\n",
       "    </tr>\n",
       "    <tr>\n",
       "      <th>4</th>\n",
       "      <td>Boot 3750 from tftp</td>\n",
       "      <td>2011-08-04</td>\n",
       "      <td>9238</td>\n",
       "      <td>21</td>\n",
       "      <td>14</td>\n",
       "    </tr>\n",
       "    <tr>\n",
       "      <th>5</th>\n",
       "      <td>5K ntp debug help for failing ntp reque</td>\n",
       "      <td>2018-05-17</td>\n",
       "      <td>128</td>\n",
       "      <td>0</td>\n",
       "      <td>0</td>\n",
       "    </tr>\n",
       "    <tr>\n",
       "      <th>6</th>\n",
       "      <td>Inter Vlan routing 2960x  2921</td>\n",
       "      <td>2018-05-17</td>\n",
       "      <td>136</td>\n",
       "      <td>0</td>\n",
       "      <td>0</td>\n",
       "    </tr>\n",
       "    <tr>\n",
       "      <th>7</th>\n",
       "      <td>ASR 100X Management Interface with HSR</td>\n",
       "      <td>2016-06-06</td>\n",
       "      <td>150</td>\n",
       "      <td>7</td>\n",
       "      <td>0</td>\n",
       "    </tr>\n",
       "    <tr>\n",
       "      <th>8</th>\n",
       "      <td>Catalyst 9K OpenFlow support</td>\n",
       "      <td>2018-05-17</td>\n",
       "      <td>119</td>\n",
       "      <td>0</td>\n",
       "      <td>0</td>\n",
       "    </tr>\n",
       "    <tr>\n",
       "      <th>9</th>\n",
       "      <td>Gratuitous ARP Problem</td>\n",
       "      <td>2012-03-06</td>\n",
       "      <td>5764</td>\n",
       "      <td>9</td>\n",
       "      <td>0</td>\n",
       "    </tr>\n",
       "  </tbody>\n",
       "</table>\n",
       "</div>"
      ],
      "text/plain": [
       "                                      Post       Date  Views  Replies  Upvotes\n",
       "0    2960x port updown when Vivi box in us 2018-05-16    157        2        0\n",
       "1    best way to configuration switch port 2018-05-17    202        6        5\n",
       "2   Nexus 3548Block vlan communication whe 2018-05-17     71        2        0\n",
       "3                            ACL confusion 2018-05-17    158        4        0\n",
       "4                      Boot 3750 from tftp 2011-08-04   9238       21       14\n",
       "5  5K ntp debug help for failing ntp reque 2018-05-17    128        0        0\n",
       "6           Inter Vlan routing 2960x  2921 2018-05-17    136        0        0\n",
       "7   ASR 100X Management Interface with HSR 2016-06-06    150        7        0\n",
       "8             Catalyst 9K OpenFlow support 2018-05-17    119        0        0\n",
       "9                   Gratuitous ARP Problem 2012-03-06   5764        9        0"
      ]
     },
     "execution_count": 74,
     "metadata": {},
     "output_type": "execute_result"
    }
   ],
   "source": [
    "import pandas as pd\n",
    "data = pd.read_csv(\"postsLSR10k.csv\",parse_dates=['Date'])\n",
    "\n",
    "print(len(data))\n",
    "data.head(10)"
   ]
  },
  {
   "cell_type": "markdown",
   "metadata": {},
   "source": [
    "### Premilinary Data Analysis for LAN, Switching and Routing"
   ]
  },
  {
   "cell_type": "code",
   "execution_count": 10,
   "metadata": {
    "collapsed": true
   },
   "outputs": [],
   "source": [
    "import matplotlib.pyplot as plt\n",
    "%matplotlib inline"
   ]
  },
  {
   "cell_type": "code",
   "execution_count": 58,
   "metadata": {
    "collapsed": false
   },
   "outputs": [],
   "source": [
    "filtered_data = data[(data['Date'] > '2017-01-01') & (data['Date'] < '2018-05-01')]"
   ]
  },
  {
   "cell_type": "code",
   "execution_count": 59,
   "metadata": {
    "collapsed": false
   },
   "outputs": [],
   "source": [
    "date_hits = (filtered_data['Date'].value_counts().sort_index())"
   ]
  },
  {
   "cell_type": "markdown",
   "metadata": {},
   "source": [
    "##### Number of posts Vs. Day\n",
    "this plot gives an idea of daily traffic on the domain"
   ]
  },
  {
   "cell_type": "code",
   "execution_count": 60,
   "metadata": {
    "collapsed": false
   },
   "outputs": [
    {
     "data": {
      "text/plain": [
       "<matplotlib.axes._subplots.AxesSubplot at 0x21337c46160>"
      ]
     },
     "execution_count": 60,
     "metadata": {},
     "output_type": "execute_result"
    },
    {
     "data": {
      "image/png": "[encoded data removed]",
      "text/plain": [
       "<matplotlib.figure.Figure at 0x21337ab7cf8>"
      ]
     },
     "metadata": {},
     "output_type": "display_data"
    }
   ],
   "source": [
    "date_hits.plot.line()"
   ]
  },
  {
   "cell_type": "markdown",
   "metadata": {
    "collapsed": false
   },
   "source": [
    "this density plot shows that mostly the number of posts made on a day is between 10 to 30"
   ]
  },
  {
   "cell_type": "code",
   "execution_count": 75,
   "metadata": {
    "collapsed": false
   },
   "outputs": [
    {
     "data": {
      "text/plain": [
       "<matplotlib.axes._subplots.AxesSubplot at 0x213391d35f8>"
      ]
     },
     "execution_count": 75,
     "metadata": {},
     "output_type": "execute_result"
    },
    {
     "data": {
      "image/png": "[encoded data removed]",
      "text/plain": [
       "<matplotlib.figure.Figure at 0x21338ecca58>"
      ]
     },
     "metadata": {},
     "output_type": "display_data"
    }
   ],
   "source": [
    "date_hits.plot.density()"
   ]
  },
  {
   "cell_type": "markdown",
   "metadata": {
    "collapsed": false
   },
   "source": [
    "#### Monthly Analysis\n",
    "\n",
    "As from the bar chart shown below it can be seen that the number of posts in each month has low standard deviation and remains fairly constant maybe we can get a better insight of data by analysing the individual post text."
   ]
  },
  {
   "cell_type": "code",
   "execution_count": 61,
   "metadata": {
    "collapsed": false
   },
   "outputs": [
    {
     "data": {
      "text/plain": [
       "<matplotlib.axes._subplots.AxesSubplot at 0x21338ee7ef0>"
      ]
     },
     "execution_count": 61,
     "metadata": {},
     "output_type": "execute_result"
    },
    {
     "data": {
      "image/png": "[encoded data removed]",
      "text/plain": [
       "<matplotlib.figure.Figure at 0x2133749e588>"
      ]
     },
     "metadata": {},
     "output_type": "display_data"
    }
   ],
   "source": [
    "monthly_hits = filtered_data['Date'].groupby(filtered_data.Date.dt.to_period(\"M\")).agg('count')\n",
    "monthly_hits.plot.bar()"
   ]
  },
  {
   "cell_type": "markdown",
   "metadata": {},
   "source": [
    "Most months have posts ranging between 450 to 550."
   ]
  },
  {
   "cell_type": "code",
   "execution_count": 62,
   "metadata": {
    "collapsed": false
   },
   "outputs": [
    {
     "data": {
      "text/plain": [
       "<matplotlib.axes._subplots.AxesSubplot at 0x21338e53b70>"
      ]
     },
     "execution_count": 62,
     "metadata": {},
     "output_type": "execute_result"
    },
    {
     "data": {
      "image/png": "[encoded data removed]",
      "text/plain": [
       "<matplotlib.figure.Figure at 0x213373e60b8>"
      ]
     },
     "metadata": {},
     "output_type": "display_data"
    }
   ],
   "source": [
    "monthly_hits.plot.density()"
   ]
  },
  {
   "cell_type": "markdown",
   "metadata": {},
   "source": [
    "#### Community Scoring\n",
    "The activity of any forum is not only based on the number of posts posted but also based on how actively the community participates to solve ones problem."
   ]
  },
  {
   "cell_type": "code",
   "execution_count": 70,
   "metadata": {
    "collapsed": false
   },
   "outputs": [],
   "source": [
    "replied_posts =  data[((data['Replies']) > 0 ) & ( data['Date'] > '2017-01-01') & (data['Date'] < '2018-05-01') ]"
   ]
  },
  {
   "cell_type": "code",
   "execution_count": 86,
   "metadata": {
    "collapsed": false
   },
   "outputs": [
    {
     "name": "stdout",
     "output_type": "stream",
     "text": [
      "\n",
      "Percentage of posts which have got atleast one reply : 86 %\n",
      "\n"
     ]
    }
   ],
   "source": [
    "print(\"\\nPercentage of posts which have got atleast one reply : {} %\\n\".format(len(replied_posts)*100//len(filtered_data)))"
   ]
  },
  {
   "cell_type": "code",
   "execution_count": 72,
   "metadata": {
    "collapsed": false
   },
   "outputs": [],
   "source": [
    "upvoted_posts = data[((data['Upvotes']) > 0) &(data['Date'] > '2017-01-01') & (data['Date'] < '2018-05-01')]"
   ]
  },
  {
   "cell_type": "code",
   "execution_count": 87,
   "metadata": {
    "collapsed": false
   },
   "outputs": [
    {
     "name": "stdout",
     "output_type": "stream",
     "text": [
      "\n",
      "Percentage of posts which have got atleast one reply and marked helpful: 20 %\n",
      "\n"
     ]
    }
   ],
   "source": [
    "print(\"\\nPercentage of posts which have got atleast one reply and marked helpful: {} %\\n\".format(len(upvoted_posts)*100//len(filtered_data)))"
   ]
  },
  {
   "cell_type": "code",
   "execution_count": null,
   "metadata": {
    "collapsed": true
   },
   "outputs": [],
   "source": []
  }
 ],
 "metadata": {
  "anaconda-cloud": {},
  "kernelspec": {
   "display_name": "Python [conda env:Anaconda3]",
   "language": "python",
   "name": "conda-env-Anaconda3-py"
  },
  "language_info": {
   "codemirror_mode": {
    "name": "ipython",
    "version": 3
   },
   "file_extension": ".py",
   "mimetype": "text/x-python",
   "name": "python",
   "nbconvert_exporter": "python",
   "pygments_lexer": "ipython3",
   "version": "3.5.2"
  }
 },
 "nbformat": 4,
 "nbformat_minor": 2
}
