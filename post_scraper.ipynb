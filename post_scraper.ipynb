{
 "cells": [
  {
   "cell_type": "code",
   "execution_count": 1,
   "metadata": {
    "collapsed": true
   },
   "outputs": [],
   "source": [
    "import requests\n",
    "import bs4"
   ]
  },
  {
   "cell_type": "code",
   "execution_count": 3,
   "metadata": {
    "collapsed": false
   },
   "outputs": [],
   "source": [
    "res = []\n",
    "base_url = 'https://supportforums.cisco.com/t5/lan-switching-and-routing/bd-p/6016-discussions-lan-switching-routing/page/'\n",
    "starting_page = 50\n",
    "for i in range(5):\n",
    "    load_url = base_url + str(50+i)\n",
    "    response = requests.get(load_url)\n",
    "    res.append(response)"
   ]
  },
  {
   "cell_type": "code",
   "execution_count": 15,
   "metadata": {
    "collapsed": false
   },
   "outputs": [],
   "source": [
    "#res[0].text"
   ]
  },
  {
   "cell_type": "code",
   "execution_count": 88,
   "metadata": {
    "collapsed": true
   },
   "outputs": [],
   "source": [
    "soup = bs4.BeautifulSoup(res[1].text,'lxml')"
   ]
  },
  {
   "cell_type": "code",
   "execution_count": 125,
   "metadata": {
    "collapsed": false
   },
   "outputs": [
    {
     "name": "stdout",
     "output_type": "stream",
     "text": [
      "15\n"
     ]
    },
    {
     "data": {
      "text/plain": [
       "['How-to Find Serial Number on 2nd Chassi...',\n",
       " '2960s Stack IOS Upgade - Reboot Loop',\n",
       " 'How disable system message of Cisco Rou...',\n",
       " 'Change Syslog Port on 3850',\n",
       " 'RV320 Gateway to Gateway routing',\n",
       " 'Cisco switch connect to TP-Link with L2...',\n",
       " 'vpnv4 route advertisements',\n",
       " 'Can I active ipservice license on this ...',\n",
       " 'NIC Teaming Switch Configuration',\n",
       " 'Cisco IOS Image for 3650 switches',\n",
       " 'subnet-based VLAN ? (topology attached)',\n",
       " 'Network monitoring',\n",
       " 'configuring 3560 QoS',\n",
       " 'ntp setup',\n",
       " 'VTP Settings']"
      ]
     },
     "execution_count": 125,
     "metadata": {},
     "output_type": "execute_result"
    }
   ],
   "source": [
    "raw_titles = (soup.select(\"div.lia-quilt-column-alley-left tr.lia-list-row div.MessageSubject a.lia-custom-event.lia-link-navigation.page-link\"))\n",
    "print(len(raw_titles))\n",
    "titles = []\n",
    "for title in raw_titles:\n",
    "    _t = title.getText().split()\n",
    "    titles.append(\" \".join(_t))\n",
    "titles"
   ]
  },
  {
   "cell_type": "code",
   "execution_count": 126,
   "metadata": {
    "collapsed": false
   },
   "outputs": [
    {
     "name": "stdout",
     "output_type": "stream",
     "text": [
      "15\n"
     ]
    },
    {
     "data": {
      "text/plain": [
       "['01-20-2015',\n",
       " '04-19-2018',\n",
       " '04-11-2010',\n",
       " '05-16-2018',\n",
       " '05-04-2018',\n",
       " '05-16-2018',\n",
       " '05-16-2018',\n",
       " '05-15-2018',\n",
       " '05-16-2018',\n",
       " '05-15-2018',\n",
       " '05-16-2018',\n",
       " '05-16-2018',\n",
       " '05-02-2018',\n",
       " '05-16-2018',\n",
       " '05-15-2018']"
      ]
     },
     "execution_count": 126,
     "metadata": {},
     "output_type": "execute_result"
    }
   ],
   "source": [
    "raw_dates = (soup.select(\"div.lia-quilt-column-alley-left tr.lia-list-row div.lia-info-area > span:nth-of-type(1) span.local-date\"))\n",
    "print(len(raw_dates))\n",
    "dates = []\n",
    "for date in raw_dates:\n",
    "    dates.append(date.getText()[1:])\n",
    "dates"
   ]
  },
  {
   "cell_type": "code",
   "execution_count": 127,
   "metadata": {
    "collapsed": false
   },
   "outputs": [
    {
     "name": "stdout",
     "output_type": "stream",
     "text": [
      "15\n"
     ]
    },
    {
     "data": {
      "text/plain": [
       "['5', '3', '5', '0', '5', '1', '7', '2', '5', '6', '6', '1', '11', '2', '4']"
      ]
     },
     "execution_count": 127,
     "metadata": {},
     "output_type": "execute_result"
    }
   ],
   "source": [
    "raw_replies = (soup.select(\"div.lia-quilt-column-alley-left tr.lia-list-row div.lia-component-messages-column-thread-replies-count span\"))\n",
    "print(len(raw_replies))\n",
    "replies = []\n",
    "for reply in raw_replies:\n",
    "    replies.append(reply.getText())\n",
    "replies"
   ]
  },
  {
   "cell_type": "code",
   "execution_count": 128,
   "metadata": {
    "collapsed": false
   },
   "outputs": [
    {
     "name": "stdout",
     "output_type": "stream",
     "text": [
      "15\n"
     ]
    },
    {
     "data": {
      "text/plain": [
       "['4236',\n",
       " '154',\n",
       " '68627',\n",
       " '77',\n",
       " '202',\n",
       " '81',\n",
       " '81',\n",
       " '84',\n",
       " '129',\n",
       " '141',\n",
       " '131',\n",
       " '72',\n",
       " '195',\n",
       " '65',\n",
       " '113']"
      ]
     },
     "execution_count": 128,
     "metadata": {},
     "output_type": "execute_result"
    }
   ],
   "source": [
    "raw_views = soup.select(\"div.lia-quilt-column-alley-left tr.lia-list-row div.lia-component-messages-column-topic-views-count span\")\n",
    "print(len(raw_views))\n",
    "views = []\n",
    "for view in raw_views:\n",
    "    views.append(view.getText())\n",
    "views"
   ]
  },
  {
   "cell_type": "code",
   "execution_count": 129,
   "metadata": {
    "collapsed": false
   },
   "outputs": [
    {
     "name": "stdout",
     "output_type": "stream",
     "text": [
      "15\n"
     ]
    },
    {
     "data": {
      "text/plain": [
       "['5', '0', '25', '0', '5', '0', '0', '0', '10', '15', '0', '0', '10', '0', '0']"
      ]
     },
     "execution_count": 129,
     "metadata": {},
     "output_type": "execute_result"
    }
   ],
   "source": [
    "raw_upvotes = soup.select(\"div.lia-quilt-column-alley-left tr.lia-list-row div.custom-grid-kudos span\")\n",
    "print(len(raw_upvotes))\n",
    "upvotes = []\n",
    "for upvote in raw_upvotes:\n",
    "    upvotes.append(upvote.getText()[4:-3])\n",
    "upvotes"
   ]
  },
  {
   "cell_type": "code",
   "execution_count": 150,
   "metadata": {
    "collapsed": true
   },
   "outputs": [],
   "source": [
    "class post_info:\n",
    "    def __init__(self,post,date,views,upvotes,replies):\n",
    "        self.post = post\n",
    "        self.date = date\n",
    "        self.upvotes = upvotes\n",
    "        self.replies = replies\n",
    "        self.views = views\n",
    "        \n",
    "    def disp_info(self):\n",
    "        print(\"Post : \" +self.post+\"\\t Date : \"+self.date+ \"\\nReplies : \"+self.replies +\"\\t\\t views : \"+self.views+\"\\t\\t upvotes :\"+self.upvotes )"
   ]
  },
  {
   "cell_type": "code",
   "execution_count": 151,
   "metadata": {
    "collapsed": false
   },
   "outputs": [],
   "source": [
    "post =post_info(titles[0],dates[0],views[0],upvotes[0],replies[0])"
   ]
  },
  {
   "cell_type": "code",
   "execution_count": 152,
   "metadata": {
    "collapsed": false
   },
   "outputs": [
    {
     "data": {
      "text/plain": [
       "<__main__.post_info at 0x2915460bf28>"
      ]
     },
     "execution_count": 152,
     "metadata": {},
     "output_type": "execute_result"
    }
   ],
   "source": [
    "post"
   ]
  },
  {
   "cell_type": "code",
   "execution_count": 153,
   "metadata": {
    "collapsed": false
   },
   "outputs": [
    {
     "name": "stdout",
     "output_type": "stream",
     "text": [
      "Post : How-to Find Serial Number on 2nd Chassi...\t Date : 01-20-2015\n",
      "Replies : 5\t\t views : 4236\t\t upvotes :5\n"
     ]
    }
   ],
   "source": [
    "post.disp_info()"
   ]
  },
  {
   "cell_type": "code",
   "execution_count": 156,
   "metadata": {
    "collapsed": true
   },
   "outputs": [],
   "source": [
    "def load_page(url):\n",
    "    res = requests.get(url)\n",
    "    soup = bs4.BeautifulSoup(res.text,'lxml')\n",
    "    \n",
    "    posts = []\n",
    "    \n",
    "    raw_replies = (soup.select(\"div.lia-quilt-column-alley-left tr.lia-list-row div.lia-component-messages-column-thread-replies-count span\"))\n",
    "    n_rep = len(raw_replies)\n",
    "    \n",
    "    replies = []\n",
    "    for reply in raw_replies:\n",
    "        replies.append(reply.getText())\n",
    "        \n",
    "        \n",
    "    raw_views = soup.select(\"div.lia-quilt-column-alley-left tr.lia-list-row div.lia-component-messages-column-topic-views-count span\")\n",
    "    n_views = len(raw_views)\n",
    "    \n",
    "    views = []\n",
    "    for view in raw_views:\n",
    "        views.append(view.getText())\n",
    "        \n",
    "        \n",
    "    raw_dates = (soup.select(\"div.lia-quilt-column-alley-left tr.lia-list-row div.lia-info-area > span:nth-of-type(1) span.local-date\"))\n",
    "    n_dates = len(raw_dates)\n",
    "    \n",
    "    dates = []\n",
    "    for date in raw_dates:\n",
    "        dates.append(date.getText()[1:])\n",
    "        \n",
    "    \n",
    "    raw_titles = (soup.select(\"div.lia-quilt-column-alley-left tr.lia-list-row div.MessageSubject a.lia-custom-event.lia-link-navigation.page-link\"))\n",
    "    n_titles = len(raw_titles)\n",
    "    \n",
    "    titles = []\n",
    "    for title in raw_titles:\n",
    "        _t = title.getText().split()\n",
    "        titles.append(\" \".join(_t))\n",
    "    \n",
    "    \n",
    "    raw_upvotes = soup.select(\"div.lia-quilt-column-alley-left tr.lia-list-row div.custom-grid-kudos span\")\n",
    "    n_upvotes = len(raw_upvotes)\n",
    "    \n",
    "    upvotes = []\n",
    "    for upvote in raw_upvotes:\n",
    "        upvotes.append(upvote.getText()[4:-3])\n",
    "    \n",
    "        \n",
    "    if n_rep == n_upvotes == n_titles == n_dates == n_views:\n",
    "        \n",
    "        print(\"number of posts : \"+str(n_rep))\n",
    "        \n",
    "        for i in range(n_titles):\n",
    "            posts.append(post_info(titles[i],dates[i],views[i],upvotes[i],replies[i]))\n",
    "        \n",
    "        return posts\n",
    "    \n",
    "    else:\n",
    "        \n",
    "        print(\"error encountered : unequal data contraints\")\n",
    "        \n",
    "        print(\"number of replies : \"+str(n_rep))\n",
    "        print(\"number of views \" + str(n_views))\n",
    "        print(\"number of upvotes \" +str(n_upvotes))\n",
    "        print(\"number of dates \" +str(n_dates))\n",
    "        print(\"number of titles \"+str(n_titles))\n",
    "        \n",
    "        return None"
   ]
  },
  {
   "cell_type": "code",
   "execution_count": 157,
   "metadata": {
    "collapsed": false
   },
   "outputs": [
    {
     "name": "stdout",
     "output_type": "stream",
     "text": [
      "number of posts : 15\n"
     ]
    }
   ],
   "source": [
    "posts = load_page('https://supportforums.cisco.com/t5/lan-switching-and-routing/bd-p/6016-discussions-lan-switching-routing/page/50')"
   ]
  },
  {
   "cell_type": "code",
   "execution_count": 158,
   "metadata": {
    "collapsed": false
   },
   "outputs": [
    {
     "name": "stdout",
     "output_type": "stream",
     "text": [
      "Post : Cisco 6807 Packet Per Second Calculatio...\t Date : 05-17-2018\n",
      "Replies : 0\t\t views : 104\t\t upvotes :0\n",
      "Post : Cisco 2960X with dot1x - %PM-3-INTERNAL...\t Date : 08-31-2017\n",
      "Replies : 3\t\t views : 409\t\t upvotes :0\n",
      "Post : Dial Peer Setup for CME\t Date : 05-16-2018\n",
      "Replies : 2\t\t views : 103\t\t upvotes :0\n",
      "Post : How to upgrade IOS on CBS31X0 stack swi...\t Date : 05-16-2018\n",
      "Replies : 1\t\t views : 78\t\t upvotes :0\n",
      "Post : PBR - keyword default\t Date : 05-16-2018\n",
      "Replies : 1\t\t views : 117\t\t upvotes :0\n",
      "Post : Cisco 6807-XL License Issue\t Date : 05-16-2018\n",
      "Replies : 4\t\t views : 102\t\t upvotes :0\n",
      "Post : Suitable image for 3850-48 ports switch\t Date : 05-16-2018\n",
      "Replies : 1\t\t views : 72\t\t upvotes :0\n",
      "Post : Cisco WS-C2960G-24TC-L\t Date : 05-16-2018\n",
      "Replies : 4\t\t views : 104\t\t upvotes :0\n",
      "Post : IOS-XE spam hardware interface mac addr...\t Date : 05-14-2018\n",
      "Replies : 2\t\t views : 167\t\t upvotes :0\n",
      "Post : FEX offline\t Date : 11-23-2014\n",
      "Replies : 6\t\t views : 304\t\t upvotes :0\n",
      "Post : QSFP28 100GBASE-LR4 1310nm 10km Transce...\t Date : 05-16-2018\n",
      "Replies : 2\t\t views : 63\t\t upvotes :0\n",
      "Post : policy based routing support ?\t Date : 05-16-2018\n",
      "Replies : 3\t\t views : 162\t\t upvotes :0\n",
      "Post : Reset my lab cisco router 2600 to facto...\t Date : 05-16-2018\n",
      "Replies : 1\t\t views : 75\t\t upvotes :0\n",
      "Post : Help with WOL\t Date : 05-16-2018\n",
      "Replies : 0\t\t views : 101\t\t upvotes :0\n",
      "Post : Route map question\t Date : 05-16-2018\n",
      "Replies : 3\t\t views : 143\t\t upvotes :0\n"
     ]
    }
   ],
   "source": [
    "for i in range(len(posts)):\n",
    "    posts[i].disp_info()"
   ]
  },
  {
   "cell_type": "code",
   "execution_count": 167,
   "metadata": {
    "collapsed": true
   },
   "outputs": [],
   "source": [
    "def load_topic(base_url, num_pages, start_page = 50,sep_pages = False, display = False):\n",
    "    \n",
    "    all_posts = []\n",
    "    sep_posts = []\n",
    "    \n",
    "    for i in range(num_pages):\n",
    "        \n",
    "        load_url = base_url + str(start_page+i)\n",
    "        page_posts = load_page(load_url)\n",
    "        \n",
    "        sep_posts.append(page_posts)\n",
    "        all_posts.extend(page_posts)\n",
    "        \n",
    "        if page_posts != None:\n",
    "            print(\"page number : \"+str(start_page+i) + \" loaded successfully\")\n",
    "        else:\n",
    "            print(\"page number : \"+str(start_page+i) + \" load error\")\n",
    "            return\n",
    "        \n",
    "    if display:\n",
    "        for i in range(len(all_posts)):\n",
    "            all_posts[i].disp_info()\n",
    "            \n",
    "    if sep_pages :\n",
    "        return sep_posts\n",
    "    else:\n",
    "        return all_posts\n",
    "        \n",
    "        \n",
    "        \n",
    "        \n",
    "    "
   ]
  },
  {
   "cell_type": "code",
   "execution_count": 168,
   "metadata": {
    "collapsed": false
   },
   "outputs": [
    {
     "name": "stdout",
     "output_type": "stream",
     "text": [
      "number of posts : 15\n",
      "page number : 50 loaded successfully\n",
      "number of posts : 15\n",
      "page number : 51 loaded successfully\n",
      "number of posts : 15\n",
      "page number : 52 loaded successfully\n",
      "number of posts : 15\n",
      "page number : 53 loaded successfully\n",
      "number of posts : 15\n",
      "page number : 54 loaded successfully\n",
      "Post : Cisco 6807 Packet Per Second Calculatio...\t Date : 05-17-2018\n",
      "Replies : 0\t\t views : 104\t\t upvotes :0\n",
      "Post : Cisco 2960X with dot1x - %PM-3-INTERNAL...\t Date : 08-31-2017\n",
      "Replies : 3\t\t views : 409\t\t upvotes :0\n",
      "Post : Dial Peer Setup for CME\t Date : 05-16-2018\n",
      "Replies : 2\t\t views : 103\t\t upvotes :0\n",
      "Post : How to upgrade IOS on CBS31X0 stack swi...\t Date : 05-16-2018\n",
      "Replies : 1\t\t views : 78\t\t upvotes :0\n",
      "Post : PBR - keyword default\t Date : 05-16-2018\n",
      "Replies : 1\t\t views : 117\t\t upvotes :0\n",
      "Post : Cisco 6807-XL License Issue\t Date : 05-16-2018\n",
      "Replies : 4\t\t views : 102\t\t upvotes :0\n",
      "Post : Suitable image for 3850-48 ports switch\t Date : 05-16-2018\n",
      "Replies : 1\t\t views : 72\t\t upvotes :0\n",
      "Post : Cisco WS-C2960G-24TC-L\t Date : 05-16-2018\n",
      "Replies : 4\t\t views : 104\t\t upvotes :0\n",
      "Post : IOS-XE spam hardware interface mac addr...\t Date : 05-14-2018\n",
      "Replies : 2\t\t views : 167\t\t upvotes :0\n",
      "Post : FEX offline\t Date : 11-23-2014\n",
      "Replies : 6\t\t views : 304\t\t upvotes :0\n",
      "Post : QSFP28 100GBASE-LR4 1310nm 10km Transce...\t Date : 05-16-2018\n",
      "Replies : 2\t\t views : 63\t\t upvotes :0\n",
      "Post : policy based routing support ?\t Date : 05-16-2018\n",
      "Replies : 3\t\t views : 162\t\t upvotes :0\n",
      "Post : Reset my lab cisco router 2600 to facto...\t Date : 05-16-2018\n",
      "Replies : 1\t\t views : 75\t\t upvotes :0\n",
      "Post : Help with WOL\t Date : 05-16-2018\n",
      "Replies : 0\t\t views : 101\t\t upvotes :0\n",
      "Post : Route map question\t Date : 05-16-2018\n",
      "Replies : 3\t\t views : 143\t\t upvotes :0\n",
      "Post : Reset a 2960X to Factory\t Date : 05-16-2018\n",
      "Replies : 2\t\t views : 199\t\t upvotes :0\n",
      "Post : Regex or grep to see IP prefix\t Date : 05-15-2018\n",
      "Replies : 6\t\t views : 126\t\t upvotes :0\n",
      "Post : CDP Problem\t Date : 05-15-2018\n",
      "Replies : 14\t\t views : 211\t\t upvotes :0\n",
      "Post : How-to Find Serial Number on 2nd Chassi...\t Date : 01-20-2015\n",
      "Replies : 5\t\t views : 4237\t\t upvotes :5\n",
      "Post : 2960s Stack IOS Upgade - Reboot Loop\t Date : 04-19-2018\n",
      "Replies : 3\t\t views : 154\t\t upvotes :0\n",
      "Post : How disable system message of Cisco Rou...\t Date : 04-11-2010\n",
      "Replies : 5\t\t views : 68634\t\t upvotes :25\n",
      "Post : Change Syslog Port on 3850\t Date : 05-16-2018\n",
      "Replies : 0\t\t views : 77\t\t upvotes :0\n",
      "Post : RV320 Gateway to Gateway routing\t Date : 05-04-2018\n",
      "Replies : 5\t\t views : 202\t\t upvotes :5\n",
      "Post : Cisco switch connect to TP-Link with L2...\t Date : 05-16-2018\n",
      "Replies : 1\t\t views : 81\t\t upvotes :0\n",
      "Post : vpnv4 route advertisements\t Date : 05-16-2018\n",
      "Replies : 7\t\t views : 81\t\t upvotes :0\n",
      "Post : Can I active ipservice license on this ...\t Date : 05-15-2018\n",
      "Replies : 2\t\t views : 84\t\t upvotes :0\n",
      "Post : NIC Teaming Switch Configuration\t Date : 05-16-2018\n",
      "Replies : 5\t\t views : 129\t\t upvotes :10\n",
      "Post : Cisco IOS Image for 3650 switches\t Date : 05-15-2018\n",
      "Replies : 6\t\t views : 142\t\t upvotes :15\n",
      "Post : subnet-based VLAN ? (topology attached)\t Date : 05-16-2018\n",
      "Replies : 6\t\t views : 136\t\t upvotes :0\n",
      "Post : Network monitoring\t Date : 05-16-2018\n",
      "Replies : 1\t\t views : 72\t\t upvotes :0\n",
      "Post : configuring 3560 QoS\t Date : 05-02-2018\n",
      "Replies : 11\t\t views : 195\t\t upvotes :10\n",
      "Post : ntp setup\t Date : 05-16-2018\n",
      "Replies : 2\t\t views : 65\t\t upvotes :0\n",
      "Post : VTP Settings\t Date : 05-15-2018\n",
      "Replies : 4\t\t views : 113\t\t upvotes :0\n",
      "Post : HA/Stacking on Cisco Nexus 3064-32T\t Date : 10-21-2015\n",
      "Replies : 5\t\t views : 1593\t\t upvotes :0\n",
      "Post : WS-C2960L-24TS-LL swich\t Date : 05-15-2018\n",
      "Replies : 2\t\t views : 88\t\t upvotes :0\n",
      "Post : 4500x support for GLC-LH-SMD DOM (10 Gb...\t Date : 05-11-2018\n",
      "Replies : 9\t\t views : 175\t\t upvotes :10\n",
      "Post : Disabling SSH Version 1.9 in 2960 switc...\t Date : 05-15-2018\n",
      "Replies : 1\t\t views : 75\t\t upvotes :0\n",
      "Post : What Cisco Router can limit concurrent ...\t Date : 06-16-2017\n",
      "Replies : 6\t\t views : 530\t\t upvotes :5\n",
      "Post : Troubleshooting - HTTP/HTTPS not access...\t Date : 04-29-2018\n",
      "Replies : 29\t\t views : 395\t\t upvotes :10\n",
      "Post : LACP between Cisco and Huawei\t Date : 06-08-2017\n",
      "Replies : 4\t\t views : 1157\t\t upvotes :0\n",
      "Post : 3650 Switch Unknown Error\t Date : 05-15-2018\n",
      "Replies : 4\t\t views : 78\t\t upvotes :0\n",
      "Post : cisco nexus 5596up and gre tunnels\t Date : 05-15-2018\n",
      "Replies : 0\t\t views : 62\t\t upvotes :0\n",
      "Post : 3850 switch giving bus error while tryi...\t Date : 08-12-2015\n",
      "Replies : 7\t\t views : 1735\t\t upvotes :5\n",
      "Post : Weird error when upgrading to 15.2E\t Date : 05-25-2015\n",
      "Replies : 8\t\t views : 1140\t\t upvotes :0\n",
      "Post : Eigrp routing loop issue Nexus 7k\t Date : 05-15-2018\n",
      "Replies : 1\t\t views : 89\t\t upvotes :0\n",
      "Post : Internet only routing solution\t Date : 05-14-2018\n",
      "Replies : 11\t\t views : 115\t\t upvotes :0\n",
      "Post : WS-C6513 bus error at PC 0x415D5FEC, ad...\t Date : 05-14-2018\n",
      "Replies : 3\t\t views : 70\t\t upvotes :0\n",
      "Post : Routing issue in Nexus 7K\t Date : 05-15-2018\n",
      "Replies : 0\t\t views : 87\t\t upvotes :0\n",
      "Post : Strange EIGRP Behavior\t Date : 05-15-2018\n",
      "Replies : 4\t\t views : 116\t\t upvotes :0\n",
      "Post : Getting SSH error 'connection refused'\t Date : 03-05-2012\n",
      "Replies : 10\t\t views : 45097\t\t upvotes :15\n",
      "Post : Doubt about Stp\t Date : 05-15-2018\n",
      "Replies : 6\t\t views : 150\t\t upvotes :10\n",
      "Post : how to configure multiple default gatew...\t Date : 05-15-2018\n",
      "Replies : 4\t\t views : 115\t\t upvotes :0\n",
      "Post : how to configure multiple default gatew...\t Date : 05-15-2018\n",
      "Replies : 1\t\t views : 58\t\t upvotes :0\n",
      "Post : PVST+ uplinkfast and dummy multicast fr...\t Date : 05-15-2018\n",
      "Replies : 0\t\t views : 88\t\t upvotes :0\n",
      "Post : CISCO Router NAT Public IP/29 (loopback...\t Date : 05-11-2018\n",
      "Replies : 16\t\t views : 233\t\t upvotes :5\n",
      "Post : Ping issue / ARP / Mac address table\t Date : 08-23-2013\n",
      "Replies : 14\t\t views : 20618\t\t upvotes :15\n",
      "Post : SNMP TRAPS\t Date : 05-15-2018\n",
      "Replies : 0\t\t views : 72\t\t upvotes :0\n",
      "Post : VLAN problem\t Date : 05-14-2018\n",
      "Replies : 25\t\t views : 212\t\t upvotes :0\n",
      "Post : vPC peer-link w/ 10G copper?\t Date : 05-15-2018\n",
      "Replies : 1\t\t views : 92\t\t upvotes :0\n",
      "Post : Configure ME 3600x for LAN Client Inter...\t Date : 05-14-2018\n",
      "Replies : 1\t\t views : 80\t\t upvotes :0\n",
      "Post : SFP Problems - Light is going through, ...\t Date : 05-08-2018\n",
      "Replies : 2\t\t views : 148\t\t upvotes :0\n",
      "Post : TCP Intercept command\t Date : 05-15-2018\n",
      "Replies : 1\t\t views : 69\t\t upvotes :5\n",
      "Post : Cisco Catalyst 9000 range VSS Support\t Date : 09-15-2017\n",
      "Replies : 21\t\t views : 7727\t\t upvotes :10\n",
      "Post : CISCO2921/K9 + 2 modules SM-ES2-24-P\t Date : 05-15-2018\n",
      "Replies : 1\t\t views : 51\t\t upvotes :0\n",
      "Post : Nexus 7010 to Nexus 9508 ACL workaround\t Date : 05-07-2018\n",
      "Replies : 4\t\t views : 86\t\t upvotes :5\n",
      "Post : Cisco C3750G Power On Failure\t Date : 05-08-2018\n",
      "Replies : 2\t\t views : 110\t\t upvotes :0\n",
      "Post : Switch 3850, Main Board Hardware Authen...\t Date : 04-30-2018\n",
      "Replies : 10\t\t views : 273\t\t upvotes :0\n",
      "Post : cisco 3850 amber led\t Date : 05-13-2018\n",
      "Replies : 9\t\t views : 158\t\t upvotes :5\n",
      "Post : Secondary core switch not pinging from ...\t Date : 01-15-2018\n",
      "Replies : 9\t\t views : 275\t\t upvotes :0\n",
      "Post : Multiple Core c4500 Deployment\t Date : 05-15-2018\n",
      "Replies : 2\t\t views : 108\t\t upvotes :0\n",
      "Post : Do not worked (backup channel) a \"ospf\"...\t Date : 05-14-2018\n",
      "Replies : 4\t\t views : 130\t\t upvotes :10\n",
      "Post : External packets tagged with internal V...\t Date : 05-15-2018\n",
      "Replies : 1\t\t views : 88\t\t upvotes :0\n",
      "Post : cisco phone and PC not registering on s...\t Date : 04-20-2018\n",
      "Replies : 9\t\t views : 220\t\t upvotes :0\n",
      "Post : Need help with inter-vlan routing betwe...\t Date : 05-11-2018\n",
      "Replies : 21\t\t views : 266\t\t upvotes :0\n",
      "Post : PBR on C3560G (12.2(55)SE12)\t Date : 05-07-2018\n",
      "Replies : 8\t\t views : 165\t\t upvotes :0\n"
     ]
    }
   ],
   "source": [
    "base_url = 'https://supportforums.cisco.com/t5/lan-switching-and-routing/bd-p/6016-discussions-lan-switching-routing/page/'\n",
    "posts = load_topic(base_url, num_pages = 5, start_page = 50,sep_pages = False, display = True)"
   ]
  },
  {
   "cell_type": "code",
   "execution_count": 169,
   "metadata": {
    "collapsed": false
   },
   "outputs": [
    {
     "data": {
      "text/plain": [
       "75"
      ]
     },
     "execution_count": 169,
     "metadata": {},
     "output_type": "execute_result"
    }
   ],
   "source": []
  },
  {
   "cell_type": "code",
   "execution_count": 2,
   "metadata": {
    "collapsed": false
   },
   "outputs": [
    {
     "data": {
      "text/plain": [
       "3"
      ]
     },
     "execution_count": 2,
     "metadata": {},
     "output_type": "execute_result"
    }
   ],
   "source": [
    "int('1') +2"
   ]
  },
  {
   "cell_type": "code",
   "execution_count": 26,
   "metadata": {
    "collapsed": false
   },
   "outputs": [],
   "source": [
    "load_url = 'https://supportforums.cisco.com/t5/lan-switching-and-routing/help-on-configuration-of-pbr-on-cisco-3850-switch/td-p/3324761'\n",
    "res = requests.get(load_url)\n",
    "soup = bs4.BeautifulSoup(res.text,'lxml')\n"
   ]
  },
  {
   "cell_type": "code",
   "execution_count": 27,
   "metadata": {
    "collapsed": false
   },
   "outputs": [
    {
     "name": "stdout",
     "output_type": "stream",
     "text": [
      "Help on configuration of PBR on Cisco 3850 Switch\n"
     ]
    }
   ],
   "source": [
    "heading = soup.select(\"div.lia-thread-topic h5\")[0].getText()\n",
    "print(heading)"
   ]
  },
  {
   "cell_type": "code",
   "execution_count": 28,
   "metadata": {
    "collapsed": false
   },
   "outputs": [
    {
     "name": "stdout",
     "output_type": "stream",
     "text": [
      "Hello Community, We have this network design: Could you please help me how to configure PBR on our Cisco 3850 switch.We have VLANs 10 and 20 and added a Guest Wifi network on VLAN 200. Also we have two ISP and two firewalls. Right now all traffic to internet is routed on ISP1 and works well.We need to achieve the following: - VLAN 10 and 20 traffic going to internet should utilize the ISP1.- VLAN 200 traffic going to internet should utilize the ISP2. Thank you in advance. Solved! Go to Solution.\n"
     ]
    }
   ],
   "source": [
    "paras = soup.select(\"div.lia-thread-topic p\")\n",
    "post = \"\"\n",
    "for para in paras:\n",
    "    post += (para.getText())\n",
    "post = post.split()\n",
    "post = \" \".join(post)\n",
    "print(post)"
   ]
  },
  {
   "cell_type": "code",
   "execution_count": 29,
   "metadata": {
    "collapsed": false
   },
   "outputs": [
    {
     "name": "stdout",
     "output_type": "stream",
     "text": [
      "Thanks for this information. What version of code is this 3850 running? In looking at the release notes it appears that the implementation of PBR for the 3850 is not full featured in comparison to IOS routers. I wonder if it would make any difference if you remove the parameters for verify-availability and for track from your route ma. HTH Rick\n",
      "\n",
      "\n",
      "Hello, provided you have at least IPBase installed on the switch, the below should work: access-list 101 permit ip 192.168.10.x 0.0.0.255 anyaccess-list 101 permit ip 192.168.20.x 0.0.0.255 any!access-list 102 permit ip 192.168.200.x 0.0.0.255 any!route-map _TO_ISP_1 permit 10match ip address 101set ip next-hop 10.10.1.1!route-map _TO_ISP_1 permit 20!route-map _TO_ISP_2 permit 10match ip address 102set ip next-hop 10.11.1.1!route-map _TO_ISP_2 permit 20!interface Vlan10ip policy route-map TO_ISP_1!interface Vlan20ip policy route-map TO_ISP_1!interface Vlan200ip policy route-map TO_ISP_2\n",
      "\n",
      "\n",
      "Hello As the default is ISP1 then you just need to PBR towards ISP2 for vlan 200 and apply some sla tracking in case ISP2 becomes unreachable otherwise you may blackhole vlan 200 traffic. ip sla 5icmp-echo 10.11.1.2 source 10.11.1.1 ip sla schedule 5 life forever start-time now track 10 sla 5 reachability access-list 100 permit ip 192.168.200.0 0.0.0.255 route-map PBRmatch ip address 100set ip next-hop verify-availability 10.11.1.2 1 track 10int vlan 200ip policy route-map PBR resPaul Please don't forget to rate any posts that have been helpful.Thanks.\n",
      "\n",
      "\n",
      "Hi Paul, Thank you for helping and the commands provided. I tried the commands and how can I verify on the core switch that the internet traffic from VLAN 200 is going to my ISP 2? Thank you.\n",
      "\n",
      "\n",
      "Hello, the command 'show route-map' should show you if packets are policy routed...\n",
      "\n",
      "\n",
      "Thanks Georg. Some users are on VLAN 200 and accessing the internet and I check with the commands but it showing no packets: C3850-Core-SW#show route-maproute-map PBR, permit, sequence 10 Match clauses: ip address (access-lists): 100 Set clauses: ip next-hop verify-availability 10.11.1.2 1 track 10 [up] Policy routing matches: 0 packets, 0 bytes By the way, i have a static route to ISP 1 0.0.0.0 0.0.0.0 10.10.1.2 Thanks.\n",
      "\n",
      "\n",
      "Hello Hum.... from the core switch traceroute to the internet 8.8.8.8 sourced from vlan 200 seew hat parth it takes - also check your acces-list res paul Please don't forget to rate any posts that have been helpful.Thanks.\n",
      "\n",
      "\n",
      "Hi Paul, Why the traceroute results shows like this? C3850-Core-SW#tRacerouteProtocol [ip]:Target IP address: 8.8.8.8Source address: 192.168.200.1Numeric display [n]:Timeout in seconds [3]:Probe count [3]:Minimum Time to Live [1]:Maximum Time to Live [30]:Port Number [33434]:Loose, Strict, Record, Timestamp, Verbose[none]:Type escape sequence to abort.Tracing the route to 8.8.8.8VRF info: (vrf in name/id, vrf out name/id) 1 * * * 2 * * * 3 * * * 4 * * * 5 * * * 6 * * * 7 * * * 8 * * * 9 * * * 10 * * * 11 * * * 12 * * * 13 * * * 14 * * * 15 * * * 16 * * * 17 * * * 18 * * * 19 * * * 20 * * * 21 * * * 22 * * * 23 * * * 24 * * * 25 * * * 26 * * * 27 * * * 28 * * * 29 * * * 30 * * *C3850-Core-SW# For the access-list: C3850-Core-SW#sh access-listsExtended IP access list 100 10 permit ip 192.168.200.0 0.0.0.255 anyExtended IP access list CISCO-CWA-URL-REDIRECT-ACL 100 deny udp any any eq domain 101 deny tcp any any eq domain 102 deny udp any eq bootps any 103 deny udp any any eq bootpc 104 deny udp any eq bootpc any 105 permit tcp any any eq wwwExtended IP access list preauth_ipv4_acl (per-user) 10 permit udp any any eq domain 20 permit tcp any any eq domain 30 permit udp any eq bootps any 40 permit udp any any eq bootpc 50 permit udp any eq bootpc any 60 deny ip any anyIPv6 access list preauth_ipv6_acl (per-user) permit udp any any eq domain sequence 10 permit tcp any any eq domain sequence 20 permit icmp any any nd-ns sequence 30 permit icmp any any nd-na sequence 40 permit icmp any any router-solicitation sequence 50 permit icmp any any router-advertisement sequence 60 permit icmp any any redirect sequence 70 permit udp any eq 547 any eq 546 sequence 80 permit udp any eq 546 any eq 547 sequence 90 deny ipv6 any any sequence 100C3850-Core-SW#\n",
      "\n",
      "\n",
      "Hello1) traffic isn’t getting it next hop of isp2 so it sounds like normal rib routing is taking place 2) can you ping your isp2 next hop for the core switch3) have you applied the route- map to vlan 200 svi correctlyResPaul Please don't forget to rate any posts that have been helpful.Thanks.\n",
      "\n",
      "\n",
      "Hi Paul, I can ping the next hop 10.11.1.2 from Core switch. C3850-Core-SW#ping 10.11.1.2Type escape sequence to abort.Sending 5, 100-byte ICMP Echos to 10.11.1.2, timeout is 2 seconds:!!!!!Success rate is 100 percent (5/5), round-trip min/avg/max = 1/1/1 ms C3850-Core-SW# Also I have this configuration PBR route-map to VLAN 200: ip sla 5 icmp-echo 10.11.1.2 source-ip 10.11.1.1ip sla schedule 5 life forever start-time nowaccess-list 100 permit ip 192.168.200.0 0.0.0.255 any!route-map PBR permit 10 match ip address 100 set ip next-hop verify-availability 10.11.1.2 1 track 10! interface vlan 200 ip policy route-map PBR\n",
      "\n",
      "\n",
      "Can you ping source from vlan 200Do you have NAT enabledAlso tryoute-map PBR permit 10match ip address 10set ip next-hop 10.11.1.2set ip next-hop verify-availability 10.11.1.2 1 track 10! Please don't forget to rate any posts that have been helpful.Thanks.\n",
      "\n",
      "\n",
      "Hi Paul,I can ping the source from int VLAN 200:C3850-Core-SW#pingProtocol [ip]:Target IP address: 192.168.200.48Repeat count [5]:Datagram size [100]:Timeout in seconds [2]:Extended commands [n]: ySource address or interface: 192.168.200.1Type of service [0]:Set DF bit in IP header? [no]:Validate reply data? [no]:Data pattern [0xABCD]:Loose, Strict, Record, Timestamp, Verbose[none]:Sweep range of sizes [n]:Type escape sequence to abort.Sending 5, 100-byte ICMP Echos to 192.168.200.48, timeout is 2 seconds:Packet sent with a source address of 192.168.200.1!!!!!Success rate is 100 percent (5/5), round-trip min/avg/max = 1/6/10 msC3850-Core-SW# NAT is not enabled on switch.I tried the commands but still same result.\n",
      "\n",
      "\n",
      "Hello,The packets that are generate from the Switch are non policy routed, you must test the PBR from the clients that use the SVI as Gateway.Regards.\n",
      "\n",
      "\n",
      "I do not agree with the suggestion that the original poster should have a default route for each ISP. And I agree with the statement from Paul that you do not need two route maps. Default routing for ISP 1 and PBR for ISP 2 should produce the desired results (and having tracking and the verify-availability are good improvements on the basic functionality). But this most recent post does have one very important suggestion. You need to test from a client connected in vlan 200. If you want to try to test from the switch then you would also need to configure ip local policy. When you configure policy routing on an interface then PBR acts on traffic arriving on that interface but would not act on traffic generated from the switch itself. HTH Rick\n",
      "\n",
      "\n",
      "Hi Richard, Thank you for the additional information. The PBR is not applying on int vlan 200. What i need to check? C3850-Core-SW#sh run interface vlan 200Building configuration... Current configuration : 80 bytes!interface Vlan200 ip address 192.168.200.1 255.255.255.0 ip nat insideend C3850-Core-SW#\n",
      "\n",
      "\n"
     ]
    }
   ],
   "source": [
    "replies_html = soup.select(\"div.lia-thread-reply div.lia-message-body\")\n",
    "replies = []\n",
    "for reply in replies_html:\n",
    "    reply = reply.getText().split()\n",
    "    reply = \" \".join(reply)\n",
    "    replies.append(reply)\n",
    "    print(reply+\"\\n\\n\")\n"
   ]
  },
  {
   "cell_type": "code",
   "execution_count": 44,
   "metadata": {
    "collapsed": true
   },
   "outputs": [],
   "source": [
    "def load_post_data(load_url,display = False):\n",
    "    res = requests.get(load_url)\n",
    "    soup = bs4.BeautifulSoup(res.text,'lxml')\n",
    "    \n",
    "    heading = soup.select(\"div.lia-thread-topic h5\")[0].getText()\n",
    "    \n",
    "    paras = soup.select(\"div.lia-thread-topic p\")\n",
    "    content = \"\"\n",
    "    for para in paras:\n",
    "        content += (para.getText())\n",
    "    content = content.split()\n",
    "    content = \" \".join(content)\n",
    "    \n",
    "    replies_html = soup.select(\"div.lia-thread-reply div.lia-message-body\")\n",
    "    replies = []\n",
    "    for reply in replies_html:\n",
    "        reply = reply.getText().split()\n",
    "        reply = \" \".join(reply)\n",
    "        replies.append(reply)\n",
    "        \n",
    "    post = post_data(heading,content,replies) \n",
    "        \n",
    "    if display:\n",
    "        post.disp_info()\n",
    "            \n",
    "    return post     \n",
    "                "
   ]
  },
  {
   "cell_type": "code",
   "execution_count": 45,
   "metadata": {
    "collapsed": false
   },
   "outputs": [
    {
     "name": "stdout",
     "output_type": "stream",
     "text": [
      "HEADING :\tHelp on configuration of PBR on Cisco 3850 Switch\n",
      "\n",
      "\n",
      "POST :\n",
      "\n",
      "Hello Community, We have this network design: Could you please help me how to configure PBR on our Cisco 3850 switch.We have VLANs 10 and 20 and added a Guest Wifi network on VLAN 200. Also we have two ISP and two firewalls. Right now all traffic to internet is routed on ISP1 and works well.We need to achieve the following: - VLAN 10 and 20 traffic going to internet should utilize the ISP1.- VLAN 200 traffic going to internet should utilize the ISP2. Thank you in advance. Solved! Go to Solution.\n",
      "\n",
      "REPLIES :\t\n",
      "\n",
      "\n",
      "Thanks for this information. What version of code is this 3850 running? In looking at the release notes it appears that the implementation of PBR for the 3850 is not full featured in comparison to IOS routers. I wonder if it would make any difference if you remove the parameters for verify-availability and for track from your route ma. HTH Rick\n",
      "\n",
      "\n",
      "Hello, provided you have at least IPBase installed on the switch, the below should work: access-list 101 permit ip 192.168.10.x 0.0.0.255 anyaccess-list 101 permit ip 192.168.20.x 0.0.0.255 any!access-list 102 permit ip 192.168.200.x 0.0.0.255 any!route-map _TO_ISP_1 permit 10match ip address 101set ip next-hop 10.10.1.1!route-map _TO_ISP_1 permit 20!route-map _TO_ISP_2 permit 10match ip address 102set ip next-hop 10.11.1.1!route-map _TO_ISP_2 permit 20!interface Vlan10ip policy route-map TO_ISP_1!interface Vlan20ip policy route-map TO_ISP_1!interface Vlan200ip policy route-map TO_ISP_2\n",
      "\n",
      "\n",
      "Hello As the default is ISP1 then you just need to PBR towards ISP2 for vlan 200 and apply some sla tracking in case ISP2 becomes unreachable otherwise you may blackhole vlan 200 traffic. ip sla 5icmp-echo 10.11.1.2 source 10.11.1.1 ip sla schedule 5 life forever start-time now track 10 sla 5 reachability access-list 100 permit ip 192.168.200.0 0.0.0.255 route-map PBRmatch ip address 100set ip next-hop verify-availability 10.11.1.2 1 track 10int vlan 200ip policy route-map PBR resPaul Please don't forget to rate any posts that have been helpful.Thanks.\n",
      "\n",
      "\n",
      "Hi Paul, Thank you for helping and the commands provided. I tried the commands and how can I verify on the core switch that the internet traffic from VLAN 200 is going to my ISP 2? Thank you.\n",
      "\n",
      "\n",
      "Hello, the command 'show route-map' should show you if packets are policy routed...\n",
      "\n",
      "\n",
      "Thanks Georg. Some users are on VLAN 200 and accessing the internet and I check with the commands but it showing no packets: C3850-Core-SW#show route-maproute-map PBR, permit, sequence 10 Match clauses: ip address (access-lists): 100 Set clauses: ip next-hop verify-availability 10.11.1.2 1 track 10 [up] Policy routing matches: 0 packets, 0 bytes By the way, i have a static route to ISP 1 0.0.0.0 0.0.0.0 10.10.1.2 Thanks.\n",
      "\n",
      "\n",
      "Hello Hum.... from the core switch traceroute to the internet 8.8.8.8 sourced from vlan 200 seew hat parth it takes - also check your acces-list res paul Please don't forget to rate any posts that have been helpful.Thanks.\n",
      "\n",
      "\n",
      "Hi Paul, Why the traceroute results shows like this? C3850-Core-SW#tRacerouteProtocol [ip]:Target IP address: 8.8.8.8Source address: 192.168.200.1Numeric display [n]:Timeout in seconds [3]:Probe count [3]:Minimum Time to Live [1]:Maximum Time to Live [30]:Port Number [33434]:Loose, Strict, Record, Timestamp, Verbose[none]:Type escape sequence to abort.Tracing the route to 8.8.8.8VRF info: (vrf in name/id, vrf out name/id) 1 * * * 2 * * * 3 * * * 4 * * * 5 * * * 6 * * * 7 * * * 8 * * * 9 * * * 10 * * * 11 * * * 12 * * * 13 * * * 14 * * * 15 * * * 16 * * * 17 * * * 18 * * * 19 * * * 20 * * * 21 * * * 22 * * * 23 * * * 24 * * * 25 * * * 26 * * * 27 * * * 28 * * * 29 * * * 30 * * *C3850-Core-SW# For the access-list: C3850-Core-SW#sh access-listsExtended IP access list 100 10 permit ip 192.168.200.0 0.0.0.255 anyExtended IP access list CISCO-CWA-URL-REDIRECT-ACL 100 deny udp any any eq domain 101 deny tcp any any eq domain 102 deny udp any eq bootps any 103 deny udp any any eq bootpc 104 deny udp any eq bootpc any 105 permit tcp any any eq wwwExtended IP access list preauth_ipv4_acl (per-user) 10 permit udp any any eq domain 20 permit tcp any any eq domain 30 permit udp any eq bootps any 40 permit udp any any eq bootpc 50 permit udp any eq bootpc any 60 deny ip any anyIPv6 access list preauth_ipv6_acl (per-user) permit udp any any eq domain sequence 10 permit tcp any any eq domain sequence 20 permit icmp any any nd-ns sequence 30 permit icmp any any nd-na sequence 40 permit icmp any any router-solicitation sequence 50 permit icmp any any router-advertisement sequence 60 permit icmp any any redirect sequence 70 permit udp any eq 547 any eq 546 sequence 80 permit udp any eq 546 any eq 547 sequence 90 deny ipv6 any any sequence 100C3850-Core-SW#\n",
      "\n",
      "\n",
      "Hello1) traffic isn’t getting it next hop of isp2 so it sounds like normal rib routing is taking place 2) can you ping your isp2 next hop for the core switch3) have you applied the route- map to vlan 200 svi correctlyResPaul Please don't forget to rate any posts that have been helpful.Thanks.\n",
      "\n",
      "\n",
      "Hi Paul, I can ping the next hop 10.11.1.2 from Core switch. C3850-Core-SW#ping 10.11.1.2Type escape sequence to abort.Sending 5, 100-byte ICMP Echos to 10.11.1.2, timeout is 2 seconds:!!!!!Success rate is 100 percent (5/5), round-trip min/avg/max = 1/1/1 ms C3850-Core-SW# Also I have this configuration PBR route-map to VLAN 200: ip sla 5 icmp-echo 10.11.1.2 source-ip 10.11.1.1ip sla schedule 5 life forever start-time nowaccess-list 100 permit ip 192.168.200.0 0.0.0.255 any!route-map PBR permit 10 match ip address 100 set ip next-hop verify-availability 10.11.1.2 1 track 10! interface vlan 200 ip policy route-map PBR\n",
      "\n",
      "\n",
      "Can you ping source from vlan 200Do you have NAT enabledAlso tryoute-map PBR permit 10match ip address 10set ip next-hop 10.11.1.2set ip next-hop verify-availability 10.11.1.2 1 track 10! Please don't forget to rate any posts that have been helpful.Thanks.\n",
      "\n",
      "\n",
      "Hi Paul,I can ping the source from int VLAN 200:C3850-Core-SW#pingProtocol [ip]:Target IP address: 192.168.200.48Repeat count [5]:Datagram size [100]:Timeout in seconds [2]:Extended commands [n]: ySource address or interface: 192.168.200.1Type of service [0]:Set DF bit in IP header? [no]:Validate reply data? [no]:Data pattern [0xABCD]:Loose, Strict, Record, Timestamp, Verbose[none]:Sweep range of sizes [n]:Type escape sequence to abort.Sending 5, 100-byte ICMP Echos to 192.168.200.48, timeout is 2 seconds:Packet sent with a source address of 192.168.200.1!!!!!Success rate is 100 percent (5/5), round-trip min/avg/max = 1/6/10 msC3850-Core-SW# NAT is not enabled on switch.I tried the commands but still same result.\n",
      "\n",
      "\n",
      "Hello,The packets that are generate from the Switch are non policy routed, you must test the PBR from the clients that use the SVI as Gateway.Regards.\n",
      "\n",
      "\n",
      "I do not agree with the suggestion that the original poster should have a default route for each ISP. And I agree with the statement from Paul that you do not need two route maps. Default routing for ISP 1 and PBR for ISP 2 should produce the desired results (and having tracking and the verify-availability are good improvements on the basic functionality). But this most recent post does have one very important suggestion. You need to test from a client connected in vlan 200. If you want to try to test from the switch then you would also need to configure ip local policy. When you configure policy routing on an interface then PBR acts on traffic arriving on that interface but would not act on traffic generated from the switch itself. HTH Rick\n",
      "\n",
      "\n",
      "Hi Richard, Thank you for the additional information. The PBR is not applying on int vlan 200. What i need to check? C3850-Core-SW#sh run interface vlan 200Building configuration... Current configuration : 80 bytes!interface Vlan200 ip address 192.168.200.1 255.255.255.0 ip nat insideend C3850-Core-SW#\n"
     ]
    },
    {
     "data": {
      "text/plain": [
       "('Help on configuration of PBR on Cisco 3850 Switch',\n",
       " 'Hello Community, We have this network design: Could you please help me how to configure PBR on our Cisco 3850 switch.We have VLANs 10 and 20 and added a Guest Wifi network on VLAN 200. Also we have two ISP and two firewalls. Right now all traffic to internet is routed on ISP1 and works well.We need to achieve the following: - VLAN 10 and 20 traffic going to internet should utilize the ISP1.- VLAN 200 traffic going to internet should utilize the ISP2. Thank you in advance. Solved! Go to Solution.',\n",
       " ['Thanks for this information. What version of code is this 3850 running? In looking at the release notes it appears that the implementation of PBR for the 3850 is not full featured in comparison to IOS routers. I wonder if it would make any difference if you remove the parameters for verify-availability and for track from your route ma. HTH Rick',\n",
       "  'Hello, provided you have at least IPBase installed on the switch, the below should work: access-list 101 permit ip 192.168.10.x 0.0.0.255 anyaccess-list 101 permit ip 192.168.20.x 0.0.0.255 any!access-list 102 permit ip 192.168.200.x 0.0.0.255 any!route-map _TO_ISP_1 permit 10match ip address 101set ip next-hop 10.10.1.1!route-map _TO_ISP_1 permit 20!route-map _TO_ISP_2 permit 10match ip address 102set ip next-hop 10.11.1.1!route-map _TO_ISP_2 permit 20!interface Vlan10ip policy route-map TO_ISP_1!interface Vlan20ip policy route-map TO_ISP_1!interface Vlan200ip policy route-map TO_ISP_2',\n",
       "  \"Hello As the default is ISP1 then you just need to PBR towards ISP2 for vlan 200 and apply some sla tracking in case ISP2 becomes unreachable otherwise you may blackhole vlan 200 traffic. ip sla 5icmp-echo 10.11.1.2 source 10.11.1.1 ip sla schedule 5 life forever start-time now track 10 sla 5 reachability access-list 100 permit ip 192.168.200.0 0.0.0.255 route-map PBRmatch ip address 100set ip next-hop verify-availability 10.11.1.2 1 track 10int vlan 200ip policy route-map PBR resPaul Please don't forget to rate any posts that have been helpful.Thanks.\",\n",
       "  'Hi Paul, Thank you for helping and the commands provided. I tried the commands and how can I verify on the core switch that the internet traffic from VLAN 200 is going to my ISP 2? Thank you.',\n",
       "  \"Hello, the command 'show route-map' should show you if packets are policy routed...\",\n",
       "  'Thanks Georg. Some users are on VLAN 200 and accessing the internet and I check with the commands but it showing no packets: C3850-Core-SW#show route-maproute-map PBR, permit, sequence 10 Match clauses: ip address (access-lists): 100 Set clauses: ip next-hop verify-availability 10.11.1.2 1 track 10 [up] Policy routing matches: 0 packets, 0 bytes By the way, i have a static route to ISP 1 0.0.0.0 0.0.0.0 10.10.1.2 Thanks.',\n",
       "  \"Hello Hum.... from the core switch traceroute to the internet 8.8.8.8 sourced from vlan 200 seew hat parth it takes - also check your acces-list res paul Please don't forget to rate any posts that have been helpful.Thanks.\",\n",
       "  'Hi Paul, Why the traceroute results shows like this? C3850-Core-SW#tRacerouteProtocol [ip]:Target IP address: 8.8.8.8Source address: 192.168.200.1Numeric display [n]:Timeout in seconds [3]:Probe count [3]:Minimum Time to Live [1]:Maximum Time to Live [30]:Port Number [33434]:Loose, Strict, Record, Timestamp, Verbose[none]:Type escape sequence to abort.Tracing the route to 8.8.8.8VRF info: (vrf in name/id, vrf out name/id) 1 * * * 2 * * * 3 * * * 4 * * * 5 * * * 6 * * * 7 * * * 8 * * * 9 * * * 10 * * * 11 * * * 12 * * * 13 * * * 14 * * * 15 * * * 16 * * * 17 * * * 18 * * * 19 * * * 20 * * * 21 * * * 22 * * * 23 * * * 24 * * * 25 * * * 26 * * * 27 * * * 28 * * * 29 * * * 30 * * *C3850-Core-SW# For the access-list: C3850-Core-SW#sh access-listsExtended IP access list 100 10 permit ip 192.168.200.0 0.0.0.255 anyExtended IP access list CISCO-CWA-URL-REDIRECT-ACL 100 deny udp any any eq domain 101 deny tcp any any eq domain 102 deny udp any eq bootps any 103 deny udp any any eq bootpc 104 deny udp any eq bootpc any 105 permit tcp any any eq wwwExtended IP access list preauth_ipv4_acl (per-user) 10 permit udp any any eq domain 20 permit tcp any any eq domain 30 permit udp any eq bootps any 40 permit udp any any eq bootpc 50 permit udp any eq bootpc any 60 deny ip any anyIPv6 access list preauth_ipv6_acl (per-user) permit udp any any eq domain sequence 10 permit tcp any any eq domain sequence 20 permit icmp any any nd-ns sequence 30 permit icmp any any nd-na sequence 40 permit icmp any any router-solicitation sequence 50 permit icmp any any router-advertisement sequence 60 permit icmp any any redirect sequence 70 permit udp any eq 547 any eq 546 sequence 80 permit udp any eq 546 any eq 547 sequence 90 deny ipv6 any any sequence 100C3850-Core-SW#',\n",
       "  \"Hello1) traffic isn’t getting it next hop of isp2 so it sounds like normal rib routing is taking place 2) can you ping your isp2 next hop for the core switch3) have you applied the route- map to vlan 200 svi correctlyResPaul Please don't forget to rate any posts that have been helpful.Thanks.\",\n",
       "  'Hi Paul, I can ping the next hop 10.11.1.2 from Core switch. C3850-Core-SW#ping 10.11.1.2Type escape sequence to abort.Sending 5, 100-byte ICMP Echos to 10.11.1.2, timeout is 2 seconds:!!!!!Success rate is 100 percent (5/5), round-trip min/avg/max = 1/1/1 ms C3850-Core-SW# Also I have this configuration PBR route-map to VLAN 200: ip sla 5 icmp-echo 10.11.1.2 source-ip 10.11.1.1ip sla schedule 5 life forever start-time nowaccess-list 100 permit ip 192.168.200.0 0.0.0.255 any!route-map PBR permit 10 match ip address 100 set ip next-hop verify-availability 10.11.1.2 1 track 10! interface vlan 200 ip policy route-map PBR',\n",
       "  \"Can you ping source from vlan 200Do you have NAT enabledAlso tryoute-map PBR permit 10match ip address 10set ip next-hop 10.11.1.2set ip next-hop verify-availability 10.11.1.2 1 track 10! Please don't forget to rate any posts that have been helpful.Thanks.\",\n",
       "  'Hi Paul,I can ping the source from int VLAN 200:C3850-Core-SW#pingProtocol [ip]:Target IP address: 192.168.200.48Repeat count [5]:Datagram size [100]:Timeout in seconds [2]:Extended commands [n]: ySource address or interface: 192.168.200.1Type of service [0]:Set DF bit in IP header? [no]:Validate reply data? [no]:Data pattern [0xABCD]:Loose, Strict, Record, Timestamp, Verbose[none]:Sweep range of sizes [n]:Type escape sequence to abort.Sending 5, 100-byte ICMP Echos to 192.168.200.48, timeout is 2 seconds:Packet sent with a source address of 192.168.200.1!!!!!Success rate is 100 percent (5/5), round-trip min/avg/max = 1/6/10 msC3850-Core-SW# NAT is not enabled on switch.I tried the commands but still same result.',\n",
       "  'Hello,The packets that are generate from the Switch are non policy routed, you must test the PBR from the clients that use the SVI as Gateway.Regards.',\n",
       "  'I do not agree with the suggestion that the original poster should have a default route for each ISP. And I agree with the statement from Paul that you do not need two route maps. Default routing for ISP 1 and PBR for ISP 2 should produce the desired results (and having tracking and the verify-availability are good improvements on the basic functionality). But this most recent post does have one very important suggestion. You need to test from a client connected in vlan 200. If you want to try to test from the switch then you would also need to configure ip local policy. When you configure policy routing on an interface then PBR acts on traffic arriving on that interface but would not act on traffic generated from the switch itself. HTH Rick',\n",
       "  'Hi Richard, Thank you for the additional information. The PBR is not applying on int vlan 200. What i need to check? C3850-Core-SW#sh run interface vlan 200Building configuration... Current configuration : 80 bytes!interface Vlan200 ip address 192.168.200.1 255.255.255.0 ip nat insideend C3850-Core-SW#'])"
      ]
     },
     "execution_count": 45,
     "metadata": {},
     "output_type": "execute_result"
    }
   ],
   "source": [
    "load_post_info(load_url,display = True)"
   ]
  },
  {
   "cell_type": "code",
   "execution_count": 39,
   "metadata": {
    "collapsed": false
   },
   "outputs": [
    {
     "name": "stdout",
     "output_type": "stream",
     "text": [
      "https://supportforums.cisco.com//t5/lan-switching-and-routing/management-acl-on-sg550x/td-p/3404008\n",
      "https://supportforums.cisco.com//t5/lan-switching-and-routing/copying-from-tftp-to-flash/td-p/2331143\n",
      "https://supportforums.cisco.com//t5/lan-switching-and-routing/denali-16-3-5b-sh-aaa-servers-does-anybody-know-what-is-this/td-p/3404237\n",
      "https://supportforums.cisco.com//t5/lan-switching-and-routing/solution-for-simple-qos-shape-on-int-vlan/td-p/3404045\n",
      "https://supportforums.cisco.com//t5/lan-switching-and-routing/3560-password-recovery-enabled-procedures/td-p/1861623\n",
      "https://supportforums.cisco.com//t5/lan-switching-and-routing/vm-host-issues-connected-to-pair-of-vpc-switches-using-hsrp/td-p/3402930\n",
      "https://supportforums.cisco.com//t5/lan-switching-and-routing/can-you-check-this-infrastructure-configuration-will-work-from/td-p/3403923\n",
      "https://supportforums.cisco.com//t5/lan-switching-and-routing/gns-3-iosvl2-switch-not-forwarding-dhcp-reply-packets-to-the/td-p/3397023\n",
      "https://supportforums.cisco.com//t5/lan-switching-and-routing/cisco-3850-ipv6/td-p/3404336\n",
      "https://supportforums.cisco.com//t5/lan-switching-and-routing/vlans-allowed-and-active-in-management-domain/td-p/2093518\n",
      "https://supportforums.cisco.com//t5/lan-switching-and-routing/dhcp-server-on-3925-router-with-multiple-vlans/td-p/2554331\n",
      "https://supportforums.cisco.com//t5/lan-switching-and-routing/unable-to-detect-usb-on-cisco-nexus-3048/td-p/3404267\n",
      "https://supportforums.cisco.com//t5/lan-switching-and-routing/what-is-difference-on-aaa-authorization-exec-and-command/td-p/3404158\n",
      "https://supportforums.cisco.com//t5/lan-switching-and-routing/denali-16-3-5b-console/td-p/3404216\n",
      "https://supportforums.cisco.com//t5/lan-switching-and-routing/multiple-bgp-path-issue-on-aws-direct-connect/td-p/3404215\n"
     ]
    }
   ],
   "source": [
    "page_link = 'https://supportforums.cisco.com/t5/lan-switching-and-routing/bd-p/6016-discussions-lan-switching-routing/page/2'\n",
    "\n",
    "res = requests.get(page_link)\n",
    "soup = bs4.BeautifulSoup(res.text,'lxml')\n",
    "links = soup.select('div.lia-quilt-column-alley-left tr.lia-list-row a.page-link.lia-link-navigation.lia-custom-event')\n",
    "\n",
    "\n",
    "for link in links:\n",
    "    print('https://supportforums.cisco.com/'+link.attrs[\"href\"])"
   ]
  },
  {
   "cell_type": "code",
   "execution_count": 40,
   "metadata": {
    "collapsed": true
   },
   "outputs": [],
   "source": [
    "def get_post_links(page_link,display = False):\n",
    "    res = requests.get(page_link)\n",
    "    soup = bs4.BeautifulSoup(res.text,'lxml')\n",
    "    links_html = soup.select('div.lia-quilt-column-alley-left tr.lia-list-row a.page-link.lia-link-navigation.lia-custom-event')\n",
    "    \n",
    "    links = []\n",
    "    \n",
    "    for link in links_html:\n",
    "        links.append('https://supportforums.cisco.com/'+link.attrs[\"href\"])\n",
    "\n",
    "    if display:\n",
    "        for link in links:\n",
    "            print(link)\n",
    "            \n",
    "    return links"
   ]
  },
  {
   "cell_type": "code",
   "execution_count": 42,
   "metadata": {
    "collapsed": false
   },
   "outputs": [
    {
     "data": {
      "text/plain": [
       "['https://supportforums.cisco.com//t5/lan-switching-and-routing/management-acl-on-sg550x/td-p/3404008',\n",
       " 'https://supportforums.cisco.com//t5/lan-switching-and-routing/copying-from-tftp-to-flash/td-p/2331143',\n",
       " 'https://supportforums.cisco.com//t5/lan-switching-and-routing/denali-16-3-5b-sh-aaa-servers-does-anybody-know-what-is-this/td-p/3404237',\n",
       " 'https://supportforums.cisco.com//t5/lan-switching-and-routing/solution-for-simple-qos-shape-on-int-vlan/td-p/3404045',\n",
       " 'https://supportforums.cisco.com//t5/lan-switching-and-routing/3560-password-recovery-enabled-procedures/td-p/1861623',\n",
       " 'https://supportforums.cisco.com//t5/lan-switching-and-routing/vm-host-issues-connected-to-pair-of-vpc-switches-using-hsrp/td-p/3402930',\n",
       " 'https://supportforums.cisco.com//t5/lan-switching-and-routing/can-you-check-this-infrastructure-configuration-will-work-from/td-p/3403923',\n",
       " 'https://supportforums.cisco.com//t5/lan-switching-and-routing/gns-3-iosvl2-switch-not-forwarding-dhcp-reply-packets-to-the/td-p/3397023',\n",
       " 'https://supportforums.cisco.com//t5/lan-switching-and-routing/cisco-3850-ipv6/td-p/3404336',\n",
       " 'https://supportforums.cisco.com//t5/lan-switching-and-routing/vlans-allowed-and-active-in-management-domain/td-p/2093518',\n",
       " 'https://supportforums.cisco.com//t5/lan-switching-and-routing/dhcp-server-on-3925-router-with-multiple-vlans/td-p/2554331',\n",
       " 'https://supportforums.cisco.com//t5/lan-switching-and-routing/unable-to-detect-usb-on-cisco-nexus-3048/td-p/3404267',\n",
       " 'https://supportforums.cisco.com//t5/lan-switching-and-routing/what-is-difference-on-aaa-authorization-exec-and-command/td-p/3404158',\n",
       " 'https://supportforums.cisco.com//t5/lan-switching-and-routing/denali-16-3-5b-console/td-p/3404216',\n",
       " 'https://supportforums.cisco.com//t5/lan-switching-and-routing/multiple-bgp-path-issue-on-aws-direct-connect/td-p/3404215']"
      ]
     },
     "execution_count": 42,
     "metadata": {},
     "output_type": "execute_result"
    }
   ],
   "source": [
    "links = get_post_links(page_link,display = False)"
   ]
  },
  {
   "cell_type": "code",
   "execution_count": 51,
   "metadata": {
    "collapsed": true
   },
   "outputs": [],
   "source": [
    "class post_data:\n",
    "    def __init__(self,heading,content,replies):\n",
    "        self.heading = heading\n",
    "        self.content = content\n",
    "        self.replies = replies\n",
    "        \n",
    "    def disp_info(self):\n",
    "        print(\"HEADING :\\t\"+self.heading)\n",
    "        print(\"\\n\\nPOST :\\n\\n\"+self.content)\n",
    "        print(\"\\nREPLIES :\\t\")\n",
    "        if len(self.replies):\n",
    "            for reply in self.replies:\n",
    "                print(\"\\n\\n\"+reply)\n",
    "        else:\n",
    "            print(\"No Replies!\")\n",
    "        "
   ]
  },
  {
   "cell_type": "code",
   "execution_count": 46,
   "metadata": {
    "collapsed": true
   },
   "outputs": [],
   "source": [
    "def load_post_data(load_url,display = False):\n",
    "    res = requests.get(load_url)\n",
    "    soup = bs4.BeautifulSoup(res.text,'lxml')\n",
    "    \n",
    "    heading = soup.select(\"div.lia-thread-topic h5\")[0].getText()\n",
    "    \n",
    "    paras = soup.select(\"div.lia-thread-topic p\")\n",
    "    content = \"\"\n",
    "    for para in paras:\n",
    "        content += (para.getText())\n",
    "    content = content.split()\n",
    "    content = \" \".join(content)\n",
    "    \n",
    "    replies_html = soup.select(\"div.lia-thread-reply div.lia-message-body\")\n",
    "    replies = []\n",
    "    for reply in replies_html:\n",
    "        reply = reply.getText().split()\n",
    "        reply = \" \".join(reply)\n",
    "        replies.append(reply)\n",
    "        \n",
    "    post = post_data(heading,content,replies) \n",
    "        \n",
    "    if display:\n",
    "        post.disp_info()\n",
    "            \n",
    "    return post     \n",
    "                "
   ]
  },
  {
   "cell_type": "code",
   "execution_count": 47,
   "metadata": {
    "collapsed": true
   },
   "outputs": [],
   "source": [
    "def get_post_links(page_link,display = False):\n",
    "    res = requests.get(page_link)\n",
    "    soup = bs4.BeautifulSoup(res.text,'lxml')\n",
    "    links_html = soup.select('div.lia-quilt-column-alley-left tr.lia-list-row a.page-link.lia-link-navigation.lia-custom-event')\n",
    "    \n",
    "    links = []\n",
    "    \n",
    "    for link in links_html:\n",
    "        links.append('https://supportforums.cisco.com/'+link.attrs[\"href\"])\n",
    "\n",
    "    if display:\n",
    "        for link in links:\n",
    "            print(link)\n",
    "            \n",
    "    return links"
   ]
  },
  {
   "cell_type": "code",
   "execution_count": 52,
   "metadata": {
    "collapsed": false
   },
   "outputs": [
    {
     "name": "stdout",
     "output_type": "stream",
     "text": [
      "https://supportforums.cisco.com//t5/lan-switching-and-routing/management-acl-on-sg550x/td-p/3404008\n",
      "https://supportforums.cisco.com//t5/lan-switching-and-routing/copying-from-tftp-to-flash/td-p/2331143\n",
      "https://supportforums.cisco.com//t5/lan-switching-and-routing/denali-16-3-5b-sh-aaa-servers-does-anybody-know-what-is-this/td-p/3404237\n",
      "https://supportforums.cisco.com//t5/lan-switching-and-routing/solution-for-simple-qos-shape-on-int-vlan/td-p/3404045\n",
      "https://supportforums.cisco.com//t5/lan-switching-and-routing/3560-password-recovery-enabled-procedures/td-p/1861623\n",
      "https://supportforums.cisco.com//t5/lan-switching-and-routing/vm-host-issues-connected-to-pair-of-vpc-switches-using-hsrp/td-p/3402930\n",
      "https://supportforums.cisco.com//t5/lan-switching-and-routing/can-you-check-this-infrastructure-configuration-will-work-from/td-p/3403923\n",
      "https://supportforums.cisco.com//t5/lan-switching-and-routing/gns-3-iosvl2-switch-not-forwarding-dhcp-reply-packets-to-the/td-p/3397023\n",
      "https://supportforums.cisco.com//t5/lan-switching-and-routing/cisco-3850-ipv6/td-p/3404336\n",
      "https://supportforums.cisco.com//t5/lan-switching-and-routing/vlans-allowed-and-active-in-management-domain/td-p/2093518\n",
      "https://supportforums.cisco.com//t5/lan-switching-and-routing/dhcp-server-on-3925-router-with-multiple-vlans/td-p/2554331\n",
      "https://supportforums.cisco.com//t5/lan-switching-and-routing/unable-to-detect-usb-on-cisco-nexus-3048/td-p/3404267\n",
      "https://supportforums.cisco.com//t5/lan-switching-and-routing/what-is-difference-on-aaa-authorization-exec-and-command/td-p/3404158\n",
      "https://supportforums.cisco.com//t5/lan-switching-and-routing/denali-16-3-5b-console/td-p/3404216\n",
      "https://supportforums.cisco.com//t5/lan-switching-and-routing/multiple-bgp-path-issue-on-aws-direct-connect/td-p/3404215\n",
      "HEADING :\tManagement ACL on SG550X\n",
      "\n",
      "\n",
      "POST :\n",
      "\n",
      "HiAnyone know if it is possible to configure a management ACL on the SG550 switches.Under Security -> mgmt access method -> Access profile it is possible to configure a single subnet to allow management from.But is it possible to create an Access list and apply that to the vty line/https server as you would on an IOS switch? This is what i want on the SG series:access-list 23 permit 10.0.0.0 0.0.0.255access-list 23 permit 10.255.0.0 0.0.0.255ip http access-class 23line vty 0 15 access-class 23 in\n",
      "\n",
      "REPLIES :\t\n",
      "\n",
      "\n",
      "I am not an expert of the SG550 but I have looked at the documentation for the 550. And it is pretty clear that while the 550 will allow you to control management access to achieve the result that you want it is not possible to do it in the manner that you want. The 550 does not seem to support access-class for limiting management access. It uses access profiles, and while that does seem to be a bit complicated, it does seem to allow you to achieve the results. HTH Rick\n",
      "HEADING :\tCopying from tftp to flash\n",
      "\n",
      "\n",
      "POST :\n",
      "\n",
      "Hi am having trouble copying file c3560-ipservicesk9-mz.150-1.SE from tftp serverto a new cisco catalyst c3560g switch, I installed the certificationkits tftp server on my local desktop and i can ping the tftp server from the switch and vice versa, each time I run command on switch copy tftp flash i keep getting no such file and i am sure i have copied the file to the default folder of the tftp server. I need some one to help me out and tell what am doing wrong.\n",
      "\n",
      "REPLIES :\t\n",
      "\n",
      "\n",
      "Can you reply with the exact syntax you are using and what is the full file path to the image?Sent from Cisco Technical Support Android App\n",
      "\n",
      "\n",
      "The full path to the image is : C:\\TFTP-Storagesyntax used:switch# copy tftp flash remote host: 192.x.x.x source filename : c3560-ipservicesk9-mz.150-1.SEdestination filename: i press entererror message: Accessing tftp://192.168.3.47/c3560-ipservicesk9-mz.150-1.SE...%Error opening tftp://192.168.3.47/c3560-ipservicesk9-mz.150-1.SE (Timed out)\n",
      "\n",
      "\n",
      "Hi Willson,Check your root (tftp folder), if it's correct.Ping your host from switch, disable your windows firewall.Check the full ios name: c3560-ipservicesk9-mz.150-1.SE.bincopy tftp://192.168.3.47/c3560-ipservicesk9-mz.150-1.SE.bin flash:Regards.192.168.3.47\n",
      "\n",
      "\n",
      "Hi I tried number of times to copy tftp to flash. I assigned PC IP as static IP and tried ping from SW, it gave me 0/5 success message. Do I need to assign GW ip? what are the other options? Please reply ASAP. thanks Andy\n",
      "\n",
      "\n",
      "Andy You picked a very old discussion to adopt (and one that did not have a successful resolution). It would have been more effective if you had started a fresh discussion. But since you did it this way here are some questions that you need to answer if we are to be able to assist you. What is the IP of the switch? What is the IP of the PC? What else is configured on the switch? (are there vlans? are there vlan interfaces?). It might help if you would post the output of these commands from the switch: show interface status show ip interface brief show ip route HTH Rick\n",
      "\n",
      "\n",
      "1. make a folder in your PC name tftp-root in your C: drive, 2. put your file in there, 3. bind your PC IP to your tftp server. Otherwise the switch will not be able to find the tftp server.If all fail, you can copy Xmoden the file to your switch through your console cable. It will take quite some time depence on how big the file is.\n",
      "\n",
      "\n",
      "I am having difficulty in the original post detecting whether the file loaded to the PC is a bin file for which copy tftp: flash: is the appropriate method or whether it is the tar or archive file for which archive download-sw is the appropriate method.Perhaps the original poster can provide some clarification.HTHRick\n",
      "\n",
      "\n",
      "Hi The flash version loaded to the pc doesnt have a .bin extension, and i have tried copy tftp flashI get the no such file in the dir.\n",
      "\n",
      "\n",
      "Hi tried xmodem see below;Switch#copy xmodem: flash:c3560-ipservicesk9-mz.150-1.SE.binDestination filename [c3560-ipservicesk9-mz.150-1.SE.bin]?Begin the Xmodem or Xmodem-1K transfer now...CCCCCCCCCC%Error opening xmodem: (I/O error)\n",
      "\n",
      "\n",
      "I believe when you are specifying the file name, \"c3560-ipservicesk9-mz.150-1.SE\", you need to add the extension in there as well like this, \"c3560-ipservicesk9-mz.150-1.SE.bin\" where \".bin\" is the extension.\n",
      "\n",
      "\n",
      "I have tried adding .bin no joy.\n",
      "\n",
      "\n",
      "Hi am having trouble copying file c3560-ipservicesk9-mz.150-1.SE from tftp serverWhat is the EXACT model is your 3560? Not all models support IOS from 12.2(58)SE and 15.0. This is because the older models only have 16 mb flash and, if this is your case, then the \"highest\" IOS version you can use is 12.2(55)SE.If your appliance has 32 mb flash, then post the entire copy-tftp process. I want to see the COMPLETE error message and your syntax.\n",
      "\n",
      "\n",
      "Switch Ports Model SW Version SW Image------ ----- ----- ---------- ----------* 1 28 WS-C3560G-24TS 12.2(50)SE5 C3560-IPBASE-M\n",
      "\n",
      "\n",
      "3560G-24TS can support 15.0.\n",
      "HEADING :\tDenali 16.3.5b sh aaa servers - Does anybody know what is this ?\n",
      "\n",
      "\n",
      "POST :\n",
      "\n",
      "from a ssh session :ssh -l netadm simsoncat3850-wc2#sh wireless summary Access Point Summary Total Up Down-----------------------------------802.11a/n 1 1 0802.11b/g/n 0 0 0All APs 1 1 0Client SummaryCurrent Clients : 1Excluded Clients: 0Disabled Clients: 0cat3850-wc2#sh aaa servers packet_write_wait: Connection to XXX.XX.XX.XXX port 22: Broken pipe from another ssh session ssh -l netadm simsoncat3850-wc2#sh logging Syslog logging: enabled (0 messages dropped, 170 messages rate-limited, 0 flushes, 0 overruns, xml disabled, filtering disabled)No Active Message Discriminator. No Inactive Message Discriminator. Console logging: disabled Monitor logging: level debugging, 0 messages logged, xml disabled, filtering disabled Buffer logging: level debugging, 358 messages logged, xml disabled, filtering disabled Exception Logging: size (4096 bytes) Count and timestamp logging messages: disabled File logging: disabled Persistent logging: disabledNo active filter modules.Trap logging: level debugging, 362 message lines logged Logging to 147.65.1.96 (udp port 514, audit disabled, link up), 319 message lines logged, 0 message lines rate-limited, 0 message lines dropped-by-MD, xml disabled, sequence number disabled filtering disabled Logging Source-Interface: VRF Name: Vlan14Log Buffer (4096 bytes):nged state to up%LINEPROTO-5-UPDOWN: Line protocol on Interface GigabitEthernet5/0/27, changed state to up%LINEPROTO-5-UPDOWN: Line protocol on Interface GigabitEthernet5/0/33, changed state to up%LINEPROTO-5-UPDOWN: Line protocol on Interface GigabitEthernet5/0/35, changed state to up%LINEPROTO-5-UPDOWN: Line protocol on Interface GigabitEthernet5/0/36, changed state to up%LINEPROTO-5-UPDOWN: Line protocol on Interface GigabitEthernet5/0/41, changed state to up%LINEPROTO-5-UPDOWN: Line protocol on Interface GigabitEthernet5/0/43, changed state to up%LINEPROTO-5-UPDOWN: Line protocol on Interface GigabitEthernet5/0/44, changed state to up%LINEPROTO-5-UPDOWN: Line protocol on Interface GigabitEthernet5/0/45, changed state to up%LINEPROTO-5-UPDOWN: Line protocol on Interface GigabitEthernet6/0/7, changed state to up%LINEPROTO-5-UPDOWN: Line protocol on Interface GigabitEthernet6/0/8, changed state to up%LINEPROTO-5-UPDOWN: Line protocol on Interface GigabitEthernet6/0/9, changed state to up%LINEPROTO-5-UPDOWN: Line protocol on Interface GigabitEthernet6/0/10, changed state to up%LINEPROTO-5-UPDOWN: Line protocol on Interface GigabitEthernet6/0/11, changed state to up%LINEPROTO-5-UPDOWN: Line protocol on Interface GigabitEthernet6/0/12, changed state to up%LINEPROTO-5-UPDOWN: Line protocol on Interface GigabitEthernet6/0/13, changed state to up%LINEPROTO-5-UPDOWN: Line protocol on Interface GigabitEthernet6/0/14, changed state to up%LINEPROTO-5-UPDOWN: Line protocol on Interface GigabitEthernet6/0/15, changed state to up%LINEPROTO-5-UPDOWN: Line protocol on Interface GigabitEthernet6/0/16, changed state to up%LINEPROTO-5-UPDOWN: Line protocol on Interface GigabitEthernet6/0/17, changed state to up%LINEPROTO-5-UPDOWN: Line protocol on Interface GigabitEthernet6/0/18, changed state to up%LINEPROTO-5-UPDOWN: Line protocol on Interface GigabitEthernet6/0/19, changed state to up%LINEPROTO-5-UPDOWN: Line protocol on Interface GigabitEthernet6/0/20, changed state to up%LINEPROTO-5-UPDOWN: Line protocol on Interface GigabitEthernet6/0/22, changed state to up%LINEPROTO-5-UPDOWN: Line protocol on Interface GigabitEthernet6/0/24, changed state to up%LINEPROTO-5-UPDOWN: Line protocol on Interface GigabitEthernet6/0/25, changed state to up%LINEPROTO-5-UPDOWN: Line protocol on Interface GigabitEthernet6/0/26, changed state to up%LINEPROTO-5-UPDOWN: Line protocol on Interface GigabitEthernet6/0/34, changed state to up%LINEPROTO-5-UPDOWN: Line protocol on Interface GigabitEthernet6/0/35, changed state to up%LINEPROTO-5-UPDOWN: Line protocol on Interface GigabitEthernet6/0/39, changed state to up%LINEPROTO-5-UPDOWN: Line protocol on Interface GigabitEthernet6/0/40, changed state to up%LINEPROTO-5-UPDOWN: Line protocol on Interface GigabitEthernet6/0/41, changed state to up%LINEPROTO-5-UPDOWN: Line protocol on Interface GigabitEthernet6/0/43, changed state to up%LINEPROTO-5-UPDOWN: Line protocol on Interface GigabitEthernet6/0/47, changed state to up%LINEPROTO-5-UPDOWN: Line protocol on Interface Port-channel20, changed state to up%HMANRP-6-EMP_NO_ELECTION_INFO: Could not elect active EMP switch, setting emp active switch to 0: EMP_RELAY: Could not elect switch with mgmt port UP%HMANRP-6-EMP_NO_ELECTION_INFO: Could not elect active EMP switch, setting emp active switch to 0: EMP_RELAY: Could not elect switch with mgmt port UP%HMANRP-6-EMP_NO_ELECTION_INFO: Could not elect active EMP switch, setting emp active switch to 0: EMP_RELAY: Could not elect switch with mgmt port UP%HMANRP-6-EMP_NO_ELECTION_INFO: Could not elect active EMP switch, setting emp active switch to 0: EMP_RELAY: Could not elect switch with mgmt port UP%HMANRP-6-EMP_NO_ELECTION_INFO: Could not elect active EMP switch, setting emp active switch to 0: EMP_RELAY: Could not elect switch with mgmt port UP%HMANRP-6-EMP_NO_ELECTION_INFO: Could not elect active EMP switch, setting emp active switch to 0: EMP_RELAY: Could not elect switch with mgmt port UP%SYS-6-LOGGINGHOST_STARTSTOP: Logging to host 147.65.1.96 port 514 started - reconnectioncat3850-wc2# cat3850-wc2#cat3850-wc2#cat3850-wc2#term moncat3850-wc2#%STACKMGR-6-STANDBY_ELECTED:Switch 1 R0/0: stack_mgr: Switch 6 has been elected STANDBY. %IOSXE_REDUNDANCY-6-PEER: Active detected switch 6 as standby.cat3850-wc2#sh swSwitch/Stack Mac Address : cc5a.53d5.de00 - Foreign Mac AddressMac persistency wait time: Indefinite H/W CurrentSwitch# Role Mac Address Priority Version State ------------------------------------------------------------*1 Active cc5a.53d5.6080 14 V06 Ready 2 Member c444.a0e9.d580 2 V06 Ready 3 Member cc5a.53e8.7000 4 V06 Ready 4 Member 706b.b920.0b80 6 V06 Ready 5 Member cc5a.53e8.9080 8 V06 Ready 6 Standby cc5a.53e8.9980 10 V06 HA sync in progress 7 Member 0000.0000.0000 0 V06 Removed %LINK-3-UPDOWN: Interface GigabitEthernet7/1/1, changed state to down%LINK-3-UPDOWN: Interface GigabitEthernet7/1/2, changed state to down%LINK-3-UPDOWN: Interface GigabitEthernet7/1/3, changed state to down%LINK-3-UPDOWN: Interface GigabitEthernet7/1/4, changed state to down%LINK-3-UPDOWN: Interface TenGigabitEthernet7/1/1, changed state to down%LINK-3-UPDOWN: Interface TenGigabitEthernet7/1/2, changed state to down%LINK-3-UPDOWN: Interface TenGigabitEthernet7/1/3, changed state to down%LINK-3-UPDOWN: Interface TenGigabitEthernet7/1/4, changed state to downcat3850-wc2#%HMANRP-6-HMAN_IOS_CHANNEL_INFO: HMAN-IOS channel event for switch 7: EMP_RELAY: Channel UP!%HMANRP-6-EMP_NO_ELECTION_INFO: Could not elect active EMP switch, setting emp active switch to 0: EMP_RELAY: Could not elect switch with mgmt port UP%HMANRP-6-EMP_NO_ELECTION_INFO: Could not elect active EMP switch, setting emp active switch to 0: EMP_RELAY: Could not elect switch with mgmt port UPcat3850-wc2#%STACKMGR-1-STACK_LINK_CHANGE:Switch 7 R0/0: stack_mgr: Stack port 1 on switch 7 is down %STACKMGR-1-STACK_LINK_CHANGE:Switch 7 R0/0: stack_mgr: Stack port 2 on switch 7 is down %STACKMGR-1-STACK_LINK_CHANGE:Switch 7 R0/0: stack_mgr: Stack port 1 on switch 7 is up %STACKMGR-1-STACK_LINK_CHANGE:Switch 7 R0/0: stack_mgr: Stack port 2 on switch 7 is up cat3850-wc2#%STACKMGR-6-SWITCH_ADDED:Switch 7 R0/0: stack_mgr: Switch 7 has been added to the stack. %STACKMGR-6-SWITCH_ADDED:Switch 7 R0/0: stack_mgr: Switch 7 has been added to the stack. cat3850-wc2#%PLATFORM_PM-6-FRULINK_INSERTED: 2x1G 2x10G uplink module inserted in the switch 7 slot 1cat3850-wc2#%PLATFORM_PM-6-MODULE_INSERTED: SFP module inserted with interface name Te7/1/4cat3850-wc2#%LINK-3-UPDOWN: Interface TenGigabitEthernet7/1/4, changed state to upcat3850-wc2#%LINEPROTO-5-UPDOWN: Line protocol on Interface TenGigabitEthernet7/1/4, changed state to upcat3850-wc2#%SIF_MGR-1-FAULTY_CABLE:Switch 7 R0/0: sif_mgr: High hardware interrupt seen on switch 7 cat3850-wc2#cat3850-wc2#sh swSwitch/Stack Mac Address : cc5a.53d5.de00 - Local Mac AddressMac persistency wait time: Indefinite H/W CurrentSwitch# Role Mac Address Priority Version State ------------------------------------------------------------*1 Active cc5a.53d5.6080 14 V06 Ready 2 Member c444.a0e9.d580 2 V06 Ready 3 Member cc5a.53e8.7000 4 V06 Ready 4 Member 706b.b920.0b80 6 V06 Ready 5 Member cc5a.53e8.9080 8 V06 Ready 6 Standby cc5a.53e8.9980 10 V06 Ready 7 Member cc5a.53d5.de00 12 V06 Ready\n",
      "\n",
      "REPLIES :\t\n",
      "\n",
      "\n",
      "Hello, what part of this output is your question about ?\n",
      "HEADING :\tSolution for simple QoS shape on int vlan\n",
      "\n",
      "\n",
      "POST :\n",
      "\n",
      "Hello all, It looks like the QoS service-policy (shape) on the vlan interface is only limiting download, but not upload. That is a huge issue for us, since sometimes we can't segregate the port for the client from the other clients. So I only need to be able to limit the traffic, not to prioritize it. Any help would be appreciated. Thanks.\n",
      "\n",
      "REPLIES :\t\n",
      "\n",
      "\n",
      "Hello, If you wish to limit inbound traffic (assuming the SVI is the default gateway of your client)You need to create a qos policy to police the inbound (upload) traffic to a desired data rate. Shaping action is only possible in the outbound direction for most platforms.If the problem flow is a known conversation (e.g. machine to machine replication) you can create a specific policer for that conversation via an extended ACL. e.g. host a any host b ssh\n",
      "\n",
      "\n",
      "Hi Eric, Thanks for the reply. For the sake of the simplicity, let's say the customer's router is connected directly to one of the switch ports. We create an SVI interface and put the port (where the client is connected) to access mode. And we want to limit the traffic to 100/100M. How would that policy look like? Thanks in advance.\n",
      "\n",
      "\n",
      "Much depends on the QoS capabilities of the device, but maybe something similar to:policy-map RateLimit100class class-defaultpolice average 100000000int xservice-policy in RateLimit100service-policy out RateLimit100\n",
      "\n",
      "\n",
      "Hello Joseph, Thank you very much. We mainly use 7600 and 6500 series, so I dont think there should be issues. Ill try this on Monday and I'll let you know if it's working.\n",
      "HEADING :\t3560 password recovery enabled procedures\n",
      "\n",
      "\n",
      "POST :\n",
      "\n",
      "Following procedures get to the switch: dir flash and get the following.....unable to stat flash//: no such deviceAnyone got the answer?Thanks\n",
      "\n",
      "REPLIES :\t\n",
      "\n",
      "\n",
      "Hi,Its best you read this link,http://www.cisco.com/en/US/products/hw/switches/ps628/products_password_recovery09186a0080094184.shtmlHTHAlexPlease rate useful posts Regards, Alex. Please rate useful posts.\n",
      "\n",
      "\n",
      "Hi,Here is another link in which the process explained in very simple.http://www.petri.co.il/forums/showthread.php?t=15372Please rate the helpfull posts.Regards,Naidu.\n",
      "\n",
      "\n",
      "type this for password recovery.switch: flash_initswitch: load_helperswitch: rename flash:config.text flash:config.oldswitch: bootafter the switch boots and you are at the enable prompt, type this:switch# rename flash:config.old flash:config.textSwitch# copy flash:config.text system:running-config\n",
      "\n",
      "\n",
      "All this seems to me to do is, rename ... then rename back again, the password protected config! Since all I need to do is flatten the switch, one rename >to config.test.old is fine. After the config is renamed, it becomes unavailable by default & the switch is unlocked; the switch can then be back-up re imaged or simply re-coded.\n",
      "\n",
      "\n",
      "As described. Thanks\n",
      "\n",
      "\n",
      "Works. Thanks.\n",
      "\n",
      "\n",
      "Hi,This is an excerpt from the password recovery procedure:Issue the dir flash: command.Note: Make sure to type a colon \":\" after the dir flash.Best regards,Antonin\n",
      "\n",
      "\n",
      "hi,when i types flash_init // it initialize flash thendir flash: //it showed me something like vlan.dat.renamed c3550-ipservic.... vlan.dat config.text.renamed config.textI wanna ask, why it is showing me two files with same name?\n",
      "\n",
      "\n",
      "This output shows files with all different names ;-/\n",
      "\n",
      "\n",
      "flash_init\n",
      "\n",
      "\n",
      "try re starting your PuTTY, or whatever it is you are using, then pull the plug on the switch and re-try\n",
      "HEADING :\tVM host issues connected to pair of VPC switches using HSRP\n",
      "\n",
      "\n",
      "POST :\n",
      "\n",
      "So I have a couple hosts that continuous pings (testing do to deployment issues) fail mostly from doing pings from servers.Just have a pair of 3548 Nexus in VPC domain (configured to be active active) and routing for the subnet hosts are in is done via SVI-HSRP. Here are pertaining configs. Any help guys? Same on both switches except:-----------SVI configsSame on both switches except where noted:------------------------------------------ SHOW Commands to help T-shoot: show mac address-table (trouble host mac)\n",
      "\n",
      "REPLIES :\t\n",
      "\n",
      "\n",
      "Firstly, i would like to see full config of both the switches. some picture how your peer links connected back to back or any mediated switch ? I do not see you allowing VLAN 2 in the vpc peer link. what kind of spanning tree you are using (config should be network for the peer-link) show output : show vpc show spanning tree show run inter por 1 BB\n",
      "\n",
      "\n",
      "Thanks bro! Sorry I can't really just past all config on here but I have provided all that I think is applicable as there are no other real configs on them. I have attached a drawing it is very basic topology - 2 switches 1 server. The peer link is trunk allowing all vlans (Po1). Below are output you asked for hope it helps. I am thinking problem is on server side. vPC domain id : 1 Peer status : peer adjacency formed ok vPC keep-alive status : peer is alive Configuration consistency status : success Per-vlan consistency status : success Type-2 consistency status : success vPC role : primary Number of vPCs configured : 0 Peer Gateway : Enabled Peer gateway excluded VLANs : - Dual-active excluded VLANs : 5 Graceful Consistency Check : Enabled Operational Layer3 Peer-router : Disabled Auto-recovery status : Enabled (timeout = 240 seconds) vPC Peer-link status --------------------------------------------------------------------- id Port Status Active vlans -- ---- ------ -------------------------------------------------- 1 Po1 up 1,2,3,5 ---------------------------------- Here is spanning tree. Sw1# sh spanning-tree VLAN0001 Spanning tree enabled protocol rstp Root ID Priority 32769 Address 00d7.8faa.5cfc This bridge is the root Hello Time 2 sec Max Age 20 sec Forward Delay 15 sec Bridge ID Priority 32769 (priority 32768 sys-id-ext 1) Address 00d7.8faa.5cfc Hello Time 2 sec Max Age 20 sec Forward Delay 15 sec Interface Role Sts Cost Prio.Nbr Type ---------------- ---- --- --------- -------- -------------------------------- Po1 Desg FWD 2 128.4105 (vPC peer-link) Network P2p VLAN002 Spanning tree enabled protocol rstp Root ID Priority 32982 Address 00d7.8faa.5cfc This bridge is the root Hello Time 2 sec Max Age 20 sec Forward Delay 15 sec Bridge ID Priority 32982 (priority 32768 sys-id-ext 214) Address 00d7.8faa.5cfc Hello Time 2 sec Max Age 20 sec Forward Delay 15 sec Interface Role Sts Cost Prio.Nbr Type ---------------- ---- --- --------- -------- -------------------------------- Po1 Desg FWD 2 128.4105 (vPC peer-link) Network P2p Eth1/1 Desg FWD 4 128.135 Edge P2p Eth1/2 Desg FWD 4 128.136 Edge P2p VLAN003 Spanning tree enabled protocol rstp Root ID Priority 32783 Address 00d7.8faa.5cfc This bridge is the root Hello Time 2 sec Max Age 20 sec Forward Delay 15 sec Bridge ID Priority 32783 (priority 32768 sys-id-ext 15) Address 00d7.8faa.5cfc Hello Time 2 sec Max Age 20 sec Forward Delay 15 sec Interface Role Sts Cost Prio.Nbr Type ---------------- ---- --- --------- -------- -------------------------------- Po1 Desg FWD 2 128.4105 (vPC peer-link) Network P2p VLAN005 Spanning tree enabled protocol rstp Root ID Priority 32867 Address 00d7.8faa.5cfc This bridge is the root Hello Time 2 sec Max Age 20 sec Forward Delay 15 sec Bridge ID Priority 32867 (priority 32768 sys-id-ext 99) Address 00d7.8faa.5cfc Hello Time 2 sec Max Age 20 sec Forward Delay 15 sec Interface Role Sts Cost Prio.Nbr Type ---------------- ---- --- --------- -------- -------------------------------- Po1 Desg FWD 2 128.4105 (vPC peer-link) Network P2p Sw2# sh spanning-tree VLAN0001 Spanning tree enabled protocol rstp Root ID Priority 32769 Address 00d7.8faa.5cfc Cost 2 Port 4105 (port-channel1) Hello Time 2 sec Max Age 20 sec Forward Delay 15 sec Bridge ID Priority 32769 (priority 32768 sys-id-ext 1) Address 00d7.8faa.60bc Hello Time 2 sec Max Age 20 sec Forward Delay 15 sec Interface Role Sts Cost Prio.Nbr Type ---------------- ---- --- --------- -------- -------------------------------- Po1 Root FWD 2 128.4105 (vPC peer-link) Network P2p VLAN02 Spanning tree enabled protocol rstp Root ID Priority 32982 Address 00d7.8faa.5cfc Cost 2 Port 4105 (port-channel1) Hello Time 2 sec Max Age 20 sec Forward Delay 15 sec Bridge ID Priority 32982 (priority 32768 sys-id-ext 214) Address 00d7.8faa.60bc Hello Time 2 sec Max Age 20 sec Forward Delay 15 sec Interface Role Sts Cost Prio.Nbr Type ---------------- ---- --- --------- -------- -------------------------------- Po1 Root FWD 2 128.4105 (vPC peer-link) Network P2p Eth1/1 Desg FWD 4 128.135 Edge P2p Eth1/2 Desg FWD 4 128.136 Edge P2p VLAN003 Spanning tree enabled protocol rstp Root ID Priority 32783 Address 00d7.8faa.5cfc Cost 2 Port 4105 (port-channel1) Hello Time 2 sec Max Age 20 sec Forward Delay 15 sec Bridge ID Priority 32783 (priority 32768 sys-id-ext 15) Address 00d7.8faa.60bc Hello Time 2 sec Max Age 20 sec Forward Delay 15 sec Interface Role Sts Cost Prio.Nbr Type ---------------- ---- --- --------- -------- -------------------------------- Po1 Root FWD 2 128.4105 (vPC peer-link) Network P2p VLAN005 Spanning tree enabled protocol rstp Root ID Priority 32786 Address 00d7.8faa.5cfc Cost 2 Port 4105 (port-channel1) Hello Time 2 sec Max Age 20 sec Forward Delay 15 sec Bridge ID Priority 32786 (priority 32768 sys-id-ext 18) Address 00d7.8faa.60bc Hello Time 2 sec Max Age 20 sec Forward Delay 15 sec Interface Role Sts Cost Prio.Nbr Type ---------------- ---- --- --------- -------- -------------------------------- Po1 Root FWD 2 128.4105 (vPC peer-link) Network P2p interface port-channel10 (Same on both switches) speed 10000 description VPC Domain1_PeerLink switchport mode trunk spanning-tree port type network vpc peer-link\n",
      "\n",
      "\n",
      "Below is not correct. HSRP virtual IP and the physical address need to be in the same subnet interface Vlan2 description ServerHost no shutdown no ip redirects ip address 172.168.2.2/24 hsrp 2 preempt priority 105 (priority default on Switch 2) ip 172.16.2.1\n",
      "\n",
      "\n",
      "Sorry that was a type. They are both 172.16 and it pings.\n",
      "\n",
      "\n",
      "One thing I noticed there are some jumpo frames when show int 1-2 and on the peer-link interfaces. Should I configure system jumbo as below? There are hosts on 10gig ports however the trouble hosts are only on gig ports. switch(config)#policy-map type network-qos jumboframes class type network-qos class-default mtu 9216 system qos service-policy type network-qos jumboframes switch(config)#system jumbomtu 9216 !--- Set the MTU specification for an interface. switch(config)#interface ethernet x/x !--- By default, Cisco NX-OS configures Layer 3 parameters. In order to configure Layer 2 parameters, use this command. switch(config-if)#switchportswitch(config-if)#mtu 9216switch(config-if)#exit\n",
      "\n",
      "\n",
      "Although it makes sense to have the same exact jumbo frame config on both switch, this should not have anything to do with Ping failure. So, from the server, can you ping both physical IPs and also the virtual? If that is good, can you ping the other way, meaning from the switch, can you ping the IP on the server? HTH\n",
      "\n",
      "\n",
      "So from the server it can ping both actual IPs no problem, but when pinging the virtual .1 ip that is where ping fails here and there. Yes from switch I can ping the two server IPs no problem. In regards to Jumbo, that was kinda just off subject but also I wondered about. So if I got 10gig ports connected to hosts, don't I need to make sure system mtu 9216 is configured globablly and on the peer-links between both VPC switches? Should QOS for jumbo really be configured as well?\n",
      "\n",
      "\n",
      "but when pinging the virtual .1 ip that is where ping fails here and there Ok, is HSRP flapping? You can find that by using \"sh hsrp vlan 2\". Can you post the output here? In regards to Jumbo, that was kinda just off subject but also I wondered about. So if I got 10gig ports connected to hosts, don't I need to make sure system mtu 9216 is configured globablly and on the peer-links between both VPC switches? Should QOS for jumbo really be configured as well? Yes, you need to enable it globally first and add it to each vlan with QOS policy. I am not sure about the 3000 platform but in some Nexus models (5ks and 6ks), you also have to do the QOS policy globally which means it applies to the whole switch. HTH\n",
      "\n",
      "\n",
      "Ok, is HSRP flapping? You can find that by using \"sh hsrp vlan 2\". Can you post the output here? I don't think so but I will have to check when I get the chance. Yes, you need to enable it globally first and add it to each vlan with QOS policy. I am not sure about the 3000 platform but in some Nexus models (5ks and 6ks), you also have to do the QOS policy globally which means it applies to the whole switch. Servers would have to be enabled to be doing this as well right? Basically if they were and the switches weren't would that possible be the cause of packet drops? Yes I have ping drops which should not be applicable. The other thing too, so the switches are in a VPC domain but I don't have any of the server ports configured with vpc/port-channel. No issues with any of them except for the two host IPs I speak of. Is it mandatory to configure member ports for anything or servers that are dual connected to a pair of switches in a VPC domain (e.g. port-channel 2, vpc x)? Perhaps this is part of the problem but why is it only happening to a certain group and not everything. I am thinking if I try and do it now while things are running on the servers I will break the connection?\n",
      "\n",
      "\n",
      "Servers would have to be enabled to be doing this as well right? That is correct. It should be configured on the switches as well as the server(s). They basically have to match. Yes, add peer-switch both chassis. Is it mandatory to configure member ports for anything or servers that are dual connected to a pair of switches in a VPC domain (e.g. port-channel 2, vpc x) If you are going to put the server links in Portchannel, you want them to be in a vPC as well (vpc x). The other option would be to connect the switches to the server using the physical links only (no Portchannel no vPC). This especially works well with 3rd part server vendors like Dell and HP as sometimes they don't like Cisco's Portchannel. If your servers are Cisco, then you may want to use Po with vPC. HTH\n",
      "\n",
      "\n",
      "That is correct. It should be configured on the switches as well as the server(s). They basically have to match. Ok. I don't think they configured servers for Jumbo. I don't see any jumbo packets on any \"show int\". Yes, add peer-switch both chassis. Ok it is only peer-gateway right now, do you think that is causing part of or a problem? Is it mandatory to configure member ports for anything or servers that are dual connected to a pair of switches in a VPC domain (e.g. port-channel 2, vpc x) If you are going to put the server links in Portchannel, you want them to be in a vPC as well (vpc x). The other option would be to connect the switches to the server using the physical links only (no Portchannel no vPC). This especially works well with 3rd part server vendors like Dell and HP as sometimes they don't like Cisco's Portchannel. If your servers are Cisco, then you may want to use Po with vPC. Ok that is how it is now. Only 2 links are having problems but everything else is fine.\n",
      "\n",
      "\n",
      "Ok. I don't think they configured servers for Jumbo. I don't see any jumbo packets on any \"show int\" If the servers are not configured with Jumbo then you don't need it in the switches. Ok it is only peer-gateway right now, do you think that is causing part of or a problem? No. Ok that is how it is now. Only 2 links are having problems but everything else is fine. How are they connected? Po, vPC, no PO, regular physical link? HTH\n",
      "\n",
      "\n",
      "How are they connected? Po, vPC, no PO, regular physical link? Just like this: int eth1-2 switchport mode trunk switchport trunk allowed vlan 2,3 switchport trunk native vlan 4 Native VLAN is some vlan systems team asked to put, but that is not same native vlan that may be used on trunks for switches. Trouble hosts on the 2 ports are NetApp.\n",
      "\n",
      "\n",
      "Also I have the peer gateway command configured under the VPC domain do you think I need peer-switch too?\n",
      "HEADING :\tCan you check this infrastructure configuration will work from Floor to Core?\n",
      "\n",
      "\n",
      "POST :\n",
      "\n",
      "I would like to optimise our existing core to floor infrastructure: We have 4 floors altogether with rougly 4x 48 port switches per floor.Each floor has its only dedicated fibre link direct to the Core switch in our Data Centre (some 10Gb and some 1Gb uplinks - we are slowly upgrading to 10Gb uplinks throughout).The DC core switch is configured as a layer 3 switch and has all the vlan interfaces set with an IP address which is in fact the default gateway address assigned to PCs and Servers. For example - PCs are on VLAN 22, interface VLAN 22 is set as IP address 172.22.1.252/24 which is the PC configured gateway. And the Server VLAN 20 interface on the Core switch has IP address 172.16.1.252/24 representing the default GW of the Servers. In effect the Core switch is the Layer 3 switch Gatway.The VTP mode on the Core switch is set to SERVER.Each floor switch is a Layer 2 switch - for those capable of running Layer 3 they have been dumbed down to only be a Layer 2 switch (no IP routing).The uplink trunks allow VLAN 20 and 22 from Core to Floors.The floor switches VTP mode is TRANSPARENT. Is this an optimised configuration for our estate? Are there any glaring mistakes here?\n",
      "\n",
      "REPLIES :\t\n",
      "\n",
      "\n",
      "Ideally, in a logical topology as you describe, you don't span VLANs across switches that transit the L3 switch core.\n",
      "\n",
      "\n",
      "@chris.george wrote: The VTP mode on the Core switch is set to SERVER. Ideally, VTP should be set to Client or OFF.\n",
      "\n",
      "\n",
      "BTW, to OP, if the VTP options Leo suggests aren't available, you could also set your core to transparent mode.\n",
      "HEADING :\tGNS 3 iosvl2 Switch not Forwarding DHCP reply packets to the requesting vlan\n",
      "\n",
      "\n",
      "POST :\n",
      "\n",
      "I'm new to networking and GNS3 so please correct me if I'm wrong.All Switches are CISCO IOSvL2 appliancesI'm trying to get DHCP requests across vlans, my DHCP resides of VLAN 2 IT whilst the client computers reside on vlan 3 Clients which are trying to request DHCP access It seems That the DHCP Server Discover packets are reaching the DHCP-Server however the Reply that the DHCP server sends is not forwarded from the SW-IT to SW-MainAttached is the Packets intercepted from the DHCP-server to the SW-IT then SW-Main Configuration DumpsFor the sake of troubleshooting I'll dump all my configs hereMain Router Config Dump SW-Main Configuration Dump SW-Main VLAN table Dump SW-Main trunk Configuration SW-IT Config Dump SW-IT Vlan table dump SW-IT Trunk Configuration dumpSW-Clients Configuration DumpSW-Clients Vlan Table dumpSW-Clients Trunk Configuration dump DHCP-Server Configuration Dump What I'am i doing wrong Thanks For assisting me\n",
      "\n",
      "REPLIES :\t\n",
      "\n",
      "\n",
      "I'm not sure but I would say that it's because DHCP-Server doesn't know where the DHCP discovery packets come from (192.168.3.x)It does not has the route to reply back.\n",
      "\n",
      "\n",
      "Is there any way I can route the DHCP replys back to the requester ?\n",
      "\n",
      "\n",
      "If you don't want to use routing protocol then a static default route on DHCP-Server toward f0/0 or the next-hop IP should be fine. But DHCP-Server must know where to send the packets back from 192.168.3.x\n",
      "\n",
      "\n",
      "Hello, assuming that you can ping 192.168.2.2 from your MainRouter, the problem might simply be that portfast is not configured on your clients switchports. Add the line below to your port configs: interface GigabitEthernet0/1 switchport access vlan 3 switchport mode access media-type rj45 negotiation auto spanning-tree portfast\n",
      "\n",
      "\n",
      "I've added spanning-tree portfast to my configs on SW-Clients, the VPCs on vlan 3 still couldn't reach the DHCP server SW-Clients Config dump SW-Clients#sh run Building configuration... Current configuration : 3811 bytes ! ! Last configuration change at 03:10:49 UTC Sat Jun 23 2018 ! version 15.2 service timestamps debug datetime msec service timestamps log datetime msec no service password-encryption service compress-config ! hostname SW-Clients ! boot-start-marker boot-end-marker ! ! ! no aaa new-model ! ! ! ! ! ! ! ! ip cef no ipv6 cef ! ! ! spanning-tree mode pvst spanning-tree extend system-id ! vlan internal allocation policy ascending ! ! ! ! ! ! ! ! ! ! ! ! ! ! interface GigabitEthernet0/0 switchport trunk encapsulation dot1q switchport mode trunk media-type rj45 negotiation auto ! interface GigabitEthernet0/1 switchport access vlan 3 switchport mode access media-type rj45 negotiation auto spanning-tree portfast edge ! interface GigabitEthernet0/2 switchport access vlan 3 switchport mode access media-type rj45 negotiation auto spanning-tree portfast edge ! interface GigabitEthernet0/3 switchport access vlan 3 switchport mode access media-type rj45 negotiation auto spanning-tree portfast edge ! interface GigabitEthernet1/0 media-type rj45 negotiation auto ! interface GigabitEthernet1/1 media-type rj45 negotiation auto ! interface GigabitEthernet1/2 media-type rj45 negotiation auto ! interface GigabitEthernet1/3 media-type rj45 negotiation auto ! interface GigabitEthernet2/0 media-type rj45 negotiation auto ! interface GigabitEthernet2/1 media-type rj45 negotiation auto ! interface GigabitEthernet2/2 media-type rj45 negotiation auto ! interface GigabitEthernet2/3 media-type rj45 negotiation auto ! interface GigabitEthernet3/0 media-type rj45 negotiation auto ! interface GigabitEthernet3/1 media-type rj45 negotiation auto ! interface GigabitEthernet3/2 media-type rj45 negotiation auto ! interface GigabitEthernet3/3 media-type rj45 negotiation auto ! ip forward-protocol nd ! no ip http server no ip http secure-server ! ! ! ! ! ! control-plane !\n",
      "\n",
      "\n",
      "Hello, on your Main_Router, tag Vlan 2 as native: interface FastEthernet0/0.2 encapsulation dot1Q 2 native ip address 192.168.2.1 255.255.255.0 ip helper-address 192.168.2.2\n",
      "HEADING :\tCisco 3850 ipv6\n",
      "\n",
      "\n",
      "POST :\n",
      "\n",
      "Dear Support Community I have a stack of 3850 Switches (running IOS 03.06.05E) - I need to ensure the switch are ipv6 enabled. Having checked the SDM template I can see it is running the \"Advanced (high scale) template\" I can see to enable IPV6 support I need to run \"sdm prefer dual-ipv4-and-ipv6 default\", however I do not have the available command in global configuration mode. The only option is \"sdm prefer advanced\" --------------------Showing SDM Template InfoThis is the Advanced (high scale) template. Number of VLANs: 4094 Unicast MAC addresses: 32768 Overflow Unicast MAC addresses: 512 IGMP and Multicast groups: 8192 Overflow IGMP and Multicast groups: 512 Directly connected routes: 16384 Indirect routes: 7168 Security Access Control Entries: 3072 QoS Access Control Entries: 3072 Policy Based Routing ACEs: 1024 Netflow ACEs: 768 Wireless Input Microflow policer ACEs: 256 Wireless Output Microflow policer ACEs: 256 Flow SPAN ACEs: 512 Tunnels: 256 Control Plane Entries: 512 Input Netflow flows: 8192 Output Netflow flows: 16384 SGT/DGT entries: 4096 SGT/DGT Overflow entries: 512 These numbers are typical for L2 and IPv4 features. Some features such as IPv6, use up double the entry size; so only half as many entries can be created.-------------------- Question is, is the switches already enabled for ipv6, and if not do I need to update the IOS in order to be able to run the command. I need to be able to run IPV6 so my hyper-converged devices can discover themselves using ipv6 thanks in advance\n",
      "\n",
      "REPLIES :\t\n",
      "\n",
      "\n",
      "Hi Try with: sdm prefer dual-ipv4-and-ipv6 advanced Then try to enable Ipv6 enable under an interface. Hope it is useful :-)\n",
      "\n",
      "\n",
      "Thanks for response but no dice. running sdm prefer dual-ipv4-and-ipv6 advanced ^% Invalid input detected at '^' marker. Simarly the following commands are readily available for ipv6 on the interface: authentication bandwidth-percentcryptodampening-changedampening-intervaldhcpdhcpeigrpflowhello-intervalhold-timemfibmldmldmulticastndnext-hop-selfospfpimriproutersnoopingsplit-horizonsummary-addresstcptraffic-filterverify\n",
      "HEADING :\tVlans allowed and active in management domain\n",
      "\n",
      "\n",
      "POST :\n",
      "\n",
      "Hi Everyone,Need to confirm thing below.Port gi6/4 is trunk and goes to nei switch.when i do sh int trunk it showsPort Vlans allowed on trunkGi4/26 41,52,510-513,515,981Gi6/4 1-4094Then below i seePort Vlans allowed and active in management domainGi4/26 41,52,510-513,515,981Gi6/4 1,5,7,12-13,15-18,20,22-23,25-33,35,37-38,40-41,47,51-53,88,99-100,107,110-111,155-156,158,160,164,168,170,172,174,180,200,207,253-255,301-313,316-317,335-336,349,500-501,509-513,515,So my understanding is that when it says 1-4094 it is allowing by default all the vlans from 1 to 4094 right?When it says Vlans allowed and active in management domain what does it mean does it mean that these vlans are active in thisswitch.for example int vlan 110 is on nei switch not on this still it shows vlan110 does it mean that only layer 2 vlan is active on this switch?ThanksMahesh Solved! Go to Solution.\n",
      "\n",
      "REPLIES :\t\n",
      "\n",
      "\n",
      "Correct Mahesh,You allow all the vlans (1-4094) to pass through the trunk port Gi6/4 so therefor the switch now knows about all of them.\n",
      "\n",
      "\n",
      "Hi,When it says Vlans allowed and active in management domain what does it mean does it mean that these vlans are active in this switch.Yes it means these vlans are active in this switch.2.yes it means the vlan is active at L2.Thanks\n",
      "\n",
      "\n",
      "Correct Mahesh,You allow all the vlans (1-4094) to pass through the trunk port Gi6/4 so therefor the switch now knows about all of them.\n",
      "\n",
      "\n",
      "Hi,What about thisWhen it says Vlans allowed and active in management domain what does it mean does it mean that these vlans are active in this switch.for example int SVI vlan 110 is on nei switch not on this still it shows vlan110 does it mean that only layer 2 vlan is active on this switch?So it is carrying traffic for vlan 110 to nei switch?ThanksMAhesh\n",
      "\n",
      "\n",
      "Hi,When it says Vlans allowed and active in management domain what does it mean does it mean that these vlans are active in this switch.Yes it means these vlans are active in this switch.2.yes it means the vlan is active at L2.Thanks\n",
      "\n",
      "\n",
      "Hi Everyone,Thanks for answering the question.RegardsMahesh\n",
      "\n",
      "\n",
      "When your Cisco switches receives an Ethernet frame without a tag on a 802.1Q enabled interface,it will assume that it belongs to the native VLAN. I understand this one, but when this un-tagged frames are occured?and why ? ------------------pleas give me some explanation about this.\n",
      "HEADING :\tDHCP server on 3925 router with multiple VLANs\n",
      "\n",
      "\n",
      "POST :\n",
      "\n",
      "Hello,I have a have a Windows server providing DHCP to all users on VLAN 1. I want the 3925 router to provide DHCP to users on a specific VLAN, in this case VLAN 55, that will be a wireless guest VLAN. The WAP is a SAP2602 so no controller. I have the WAP configured and the switch configured with both VLANs and I know how to create the DHCP server on the router. I do not know how to make the 3925 DHCP server to only provide DHCP service to VLAN 55. Can someone provide a config example please?Thanks,Mitchell Solved! Go to Solution.\n",
      "\n",
      "REPLIES :\t\n",
      "\n",
      "\n",
      "Mitchell The configuration on the router might look something like this:ip dhcp pool vlan55 network 192.168.55.0 255.255.255.0 default-router 192.168.55.1 dns-server 8.8.8.8There might be some additional parameters depending on what the WAPs and their users need. But this would be enough to get you started. HTH Rick\n",
      "\n",
      "\n",
      "Hi,Just follow this link:http://www.cisco.com/c/en/us/td/docs/ios-xml/ios/ipaddr_dhcp/configuration/12-4t/dhcp-12-4t-book/config-dhcp-server.html#GUID-6AB64F85-D3DB-461E-BBD6-5193CC36D27FHTH\n",
      "\n",
      "\n",
      "Thank you Reza, this was a very helpful link with good information.\n",
      "\n",
      "\n",
      "So you want to provide VLAN 1 and 55 to your wireless users? You'll need to tag the VLANs and trunk to the AP.\n",
      "\n",
      "\n",
      "Mitchell My colleague Reza has provided a link to a very good article about configuring DHCP. But I am not sure that this really addresses your main question. If I am understanding your question correctly you are asking more about how you can limit the DHCP on the router to only provide addresses for VLAN 55 and not other ranges. If my understanding is not correct then please provide clarification. If my understanding is correct then the answer is quite simple. If you configure the router with a DHCP scope only for VLAN 55 then it will provide addresses for VLAN 55 and not for any other ranges. HTH Rick\n",
      "\n",
      "\n",
      "Hi Rick,Thank you for your reply. Your understanding of the question is correct, I only need help with providing DHCP to the wireless guests on VLAN 55. I do not need help configuring the VLANs, the AP, etc.I do not understand what you mean by \"configure the router with a DHCP scope only for VLAN 55\". Can you show me a configuration example? Thanks,Mitchell\n",
      "\n",
      "\n",
      "Mitchell The configuration on the router might look something like this:ip dhcp pool vlan55 network 192.168.55.0 255.255.255.0 default-router 192.168.55.1 dns-server 8.8.8.8There might be some additional parameters depending on what the WAPs and their users need. But this would be enough to get you started. HTH Rick\n",
      "\n",
      "\n",
      "Rick,Thanks for your help. It seems I was over-thinking this. For some reason I kept thinking there had to be some command to \"link\" the DHCP server to the VLAN. I should have realized just putting them both in the same network was all that was needed. Duh... Thank you for your patience and willingness to help so many of us.Mitchell Smith.\n",
      "\n",
      "\n",
      "Mitchell I agree that you were over thinking the issue and that the solution was more simple than you were looking for. Thank you for the kind words. I am glad to help you and others who participate in the forum. Thank you for using the rating system to mark this question as answered. This will help other participants in the forum to recognize that there is helpful information here. HTH Rick\n",
      "\n",
      "\n",
      "I have 3925 router I have configured failover rules for two ispnow I have to configure DHCP on a single LAN port DHCP will be of 4 different private poolsPlease help !!!\n",
      "HEADING :\tUnable to detect USB on Cisco Nexus 3048\n",
      "\n",
      "\n",
      "POST :\n",
      "\n",
      "Hello there, I recently got a new project where I have to configure Cisco Nexus 3048TP switch.The company has bought these used switches and when I fire up the device it says : loader> I have copied kickstart and standard image to a USB from one of the other working switches.However,when I plug in the USB to this switch , I am unable to see the USB.I have ran : 1.loader>bootflash: lost+found 2.loader> copy ?Error 27: Unrecognized command 3. loader> show ?Error 30: Invalid argument. Please do \"help <cmd_name>\" to get the usage Could any one guide me with this step please ????Thanks in advance.\n",
      "\n",
      "REPLIES :\t\n",
      "\n",
      "\n",
      "what is the format the USB formatted ? BB\n",
      "HEADING :\twhat is difference on aaa authorization exec and command\n",
      "\n",
      "\n",
      "POST :\n",
      "\n",
      "Hi we have below two commands. I am not sure the difference. Anyone can tell what is difference between the two command? Thank you aaa authorization exec login group tacacs+ none aaa authorization commands 15 login group tacacs+ none\n",
      "\n",
      "REPLIES :\t\n",
      "\n",
      "\n",
      "According to the Cisco documentation the aaa authorization exec is for: Runs authorization to determine if the user is allowed to run an EXEC shell. This facility might return user profile information such as autocommand information. And according to that documentation the aaa authorization command is for: Runs authorization for all commands at the specified privilege level. Here is a link if you want more detailed information https://www.cisco.com/c/en/us/td/docs/ios/12_2/security/command/reference/fsecur_r/srfauth.html HTH Rick\n",
      "\n",
      "\n",
      "Thank you so much for your reply. Can we understand the first one is for general command authorization and second one is for command at specific privilege level?\n",
      "\n",
      "\n",
      "Perhaps I am not understanding correctly what you are asking or perhaps you are not understanding my explanation. So let me try again from a slightly different perspective. aaa authorization exec has to do with if the user is allowed to run an EXEC shell - or in other words whether the user is allowed to login to the device. It has nothing to do with any commands. aaa authorization command has to do with authorization for commands at some privilege level. HTH Rick\n",
      "HEADING :\tDenali 16.3.5b console\n",
      "\n",
      "\n",
      "POST :\n",
      "\n",
      "After installing Denali 16.3.5b from version 3.6, can not access 3850 through console port.\n",
      "\n",
      "REPLIES :\t\n",
      "\n",
      "\n",
      "The new image may have changed some of the console or AAA configs. I would open a ticket with Cisco. HTH\n",
      "\n",
      "\n",
      "Thanks\n",
      "\n",
      "\n",
      "Upgrade the code. I remembered reading an IOS-XE bug which renders the console port non-functional.\n",
      "HEADING :\tmultiple BGP path issue on AWS direct connect\n",
      "\n",
      "\n",
      "POST :\n",
      "\n",
      "This is out current setup and everything working great!!! here, now i want backup link for AWS so i have request for one more secondary link and terminated on Cisco ASA on Port-channel1.8interface.This is my BGP configSo far so good till here in BGP summeryNow problem start here, from my LAN i can't ping AWS any instance.If i go ahead and shutdown one of link then my LAN hosts can ping AWS instance, I am trying to create redendency here and somehow its not working, Did i miss something here?As soon as i do following it works..I heard we shouldn't use 169.254/16 in local-link, do you think that could be the issue here?\n",
      "\n",
      "REPLIES :\t\n",
      "\n",
      "\n",
      "I see 4 prefixes over both BGP connections. I have seen this before with 2 DXs or a DX and a VPN with AWS that cause a loop. Open a ticket with AWS and have them flush their tables. Also, Are the layer-2 switches above the firewall stacked? HTH\n"
     ]
    }
   ],
   "source": [
    "page_link = 'https://supportforums.cisco.com/t5/lan-switching-and-routing/bd-p/6016-discussions-lan-switching-routing/page/2'\n",
    "links = get_post_links(page_link,display = True)\n",
    "posts = []\n",
    "for link in links:\n",
    "    posts.append(load_post_data(link,display = True))"
   ]
  },
  {
   "cell_type": "code",
   "execution_count": 4,
   "metadata": {
    "collapsed": true
   },
   "outputs": [],
   "source": [
    "page_link = 'https://supportforums.cisco.com/t5/lan-switching-and-routing/bd-p/6016-discussions-lan-switching-routing/page/50'\n",
    "res = requests.get(page_link)\n",
    "soup = bs4.BeautifulSoup(res.text,'lxml')\n",
    "links = soup.select('div.lia-quilt-column-alley-left tr')"
   ]
  },
  {
   "cell_type": "code",
   "execution_count": 51,
   "metadata": {
    "collapsed": false
   },
   "outputs": [
    {
     "data": {
      "text/plain": [
       "15"
      ]
     },
     "execution_count": 51,
     "metadata": {},
     "output_type": "execute_result"
    }
   ],
   "source": [
    "links = soup.select('div.lia-quilt-column-alley-left tbody tr')\n",
    "len(links)"
   ]
  },
  {
   "cell_type": "code",
   "execution_count": 20,
   "metadata": {
    "collapsed": false
   },
   "outputs": [
    {
     "data": {
      "text/plain": [
       "True"
      ]
     },
     "execution_count": 20,
     "metadata": {},
     "output_type": "execute_result"
    }
   ],
   "source": [
    "\"aria-label=\\\"This thread is solved\\\"\" in str(links[14])\n"
   ]
  },
  {
   "cell_type": "code",
   "execution_count": 13,
   "metadata": {
    "collapsed": false
   },
   "outputs": [
    {
     "name": "stdout",
     "output_type": "stream",
     "text": [
      "1\n",
      "1\n",
      "1\n",
      "1\n",
      "1\n",
      "1\n",
      "1\n",
      "1\n",
      "1\n",
      "1\n",
      "1\n",
      "1\n",
      "1\n",
      "1\n",
      "1\n"
     ]
    }
   ],
   "source": [
    "for tr in links:\n",
    "    \n"
   ]
  },
  {
   "cell_type": "code",
   "execution_count": 23,
   "metadata": {
    "collapsed": false
   },
   "outputs": [
    {
     "ename": "TypeError",
     "evalue": "'NoneType' object is not subscriptable",
     "output_type": "error",
     "traceback": [
      "\u001b[0;31m---------------------------------------------------------------------------\u001b[0m",
      "\u001b[0;31mTypeError\u001b[0m                                 Traceback (most recent call last)",
      "\u001b[0;32m<ipython-input-23-5e85d44a99e4>\u001b[0m in \u001b[0;36m<module>\u001b[0;34m()\u001b[0m\n\u001b[0;32m----> 1\u001b[0;31m \u001b[0mlinks\u001b[0m\u001b[1;33m[\u001b[0m\u001b[1;36m14\u001b[0m\u001b[1;33m]\u001b[0m\u001b[1;33m.\u001b[0m\u001b[0mhas_attrs\u001b[0m\u001b[1;33m[\u001b[0m\u001b[1;34m\"td\"\u001b[0m\u001b[1;33m]\u001b[0m\u001b[1;33m\u001b[0m\u001b[0m\n\u001b[0m",
      "\u001b[0;31mTypeError\u001b[0m: 'NoneType' object is not subscriptable"
     ]
    }
   ],
   "source": [
    "links[14].has_attrs[\"td\"]"
   ]
  },
  {
   "cell_type": "code",
   "execution_count": 24,
   "metadata": {
    "collapsed": false
   },
   "outputs": [
    {
     "data": {
      "text/plain": [
       "bs4.element.Tag"
      ]
     },
     "execution_count": 24,
     "metadata": {},
     "output_type": "execute_result"
    }
   ],
   "source": [
    "type(links[14])"
   ]
  },
  {
   "cell_type": "code",
   "execution_count": 32,
   "metadata": {
    "collapsed": false
   },
   "outputs": [],
   "source": [
    "tds = links[14].find_all('td')"
   ]
  },
  {
   "cell_type": "code",
   "execution_count": 34,
   "metadata": {
    "collapsed": false
   },
   "outputs": [
    {
     "name": "stdout",
     "output_type": "stream",
     "text": [
      "None\n",
      "None\n",
      "None\n",
      "None\n",
      "None\n",
      "None\n"
     ]
    }
   ],
   "source": [
    "for td in tds:\n",
    "    print(td.aria_label)"
   ]
  },
  {
   "cell_type": "code",
   "execution_count": 35,
   "metadata": {
    "collapsed": false
   },
   "outputs": [
    {
     "data": {
      "text/plain": [
       "[<td class=\"cMessageAuthorAvatarColumn lia-data-cell-secondary lia-data-cell-icon\"><div class=\"UserAvatar lia-user-avatar lia-component-messages-column-topic-author-avatar\">\n",
       " <a class=\"UserAvatar lia-link-navigation\" href=\"/t5/user/viewprofilepage/user-id/334119\" id=\"link_48\" target=\"_self\"><img alt=\"chandra_rc16\" class=\"lia-user-avatar-message\" id=\"display_18\" src=\"https://supportforums.cisco.com/legacyfs/online/legacy/6/2/3/15373326-profile_image_200\" title=\"chandra_rc16\"/>\n",
       " </a>\n",
       " </div></td>,\n",
       " <td class=\"cThreadInfoColumn lia-data-cell-primary lia-data-cell-text\"><div class=\"lia-component-messages-column-thread-info\">\n",
       " <div class=\"MessageSubjectCell\">\n",
       " <div class=\"MessageSubject\">\n",
       " <div class=\"MessageSubjectIcons \">\n",
       " <a class=\"lia-link-navigation verified-icon\" href=\"/t5/lan-switching-and-routing/question-regarding-stp-tcns/m-p/2367104#M277671\" id=\"link_49\"><span alt=\"Solved!\" aria-label=\"Solved!\" class=\"lia-img-message-type-solved lia-fa-message lia-fa-type lia-fa-solved lia-fa\" id=\"display_19\" role=\"img\" title=\"Solved!\"></span></a>\n",
       " <h2 class=\"message-subject\">\n",
       " <span class=\"lia-message-unread\">\n",
       " <a class=\"page-link lia-link-navigation lia-custom-event\" href=\"/t5/lan-switching-and-routing/question-regarding-stp-tcns/td-p/2367104\" id=\"link_50\">\n",
       "                             Question regarding STP TCNs\n",
       "                             \n",
       "                         </a>\n",
       " </span>\n",
       " </h2>\n",
       " </div>\n",
       " </div>\n",
       " </div>\n",
       " <div class=\"lia-info-area\">\n",
       " <span class=\"lia-info-area-item\">\n",
       "             by <span class=\"UserName lia-user-name lia-user-rank-Community-Member lia-component-common-widget-user-name\">\n",
       " <a class=\"lia-link-navigation lia-page-link lia-user-name-link\" href=\"/t5/user/viewprofilepage/user-id/334119\" id=\"link_c93aee8f9dbbb\" style=\"\" target=\"_self\"><span class=\"\">chandra_rc16</span></a>\n",
       " </span> on <span class=\"DateTime lia-component-common-widget-date\">\n",
       " <span class=\"local-date\">‎11-06-2013</span>\n",
       " <span class=\"local-time\">09:23 PM</span>\n",
       " </span>\n",
       " </span>\n",
       " <span class=\"lia-dot-separator\"></span>\n",
       " <span class=\"lia-info-area-item\" cssclass=\"lia-info-area-item\">\n",
       "                 Latest post on <span class=\"DateTime lia-component-common-widget-date\">\n",
       " <span class=\"local-date\">‎05-21-2018</span>\n",
       " <span class=\"local-time\">07:52 AM</span>\n",
       " </span> by <span class=\"UserName lia-user-name lia-user-rank-Community-Member lia-component-common-widget-user-name\">\n",
       " <a class=\"lia-link-navigation lia-page-link lia-user-name-link\" href=\"/t5/user/viewprofilepage/user-id/596572\" id=\"link_c93aee95ce091\" style=\"\" target=\"_self\"><span class=\"\">Dusty87</span></a>\n",
       " </span>\n",
       " </span>\n",
       " </div>\n",
       " <div class=\"lia-stats-area\">\n",
       " <span class=\"lia-stats-area-item\">\n",
       " <span class=\"lia-message-stats-count\">5</span><span class=\"lia-message-stats-label\"> Replies</span>\n",
       " </span>\n",
       " <span class=\"lia-dot-separator\"></span>\n",
       " <span class=\"lia-stats-area-item\">\n",
       " <span class=\"lia-message-stats-count\">819</span>\n",
       " <span class=\"lia-message-stats-label\">\n",
       "                 Views\n",
       "             </span>\n",
       " </span>\n",
       " </div>\n",
       " </div></td>,\n",
       " <td class=\"cRepliesCountColumn lia-data-cell-secondary lia-data-cell-integer\"><div class=\"lia-component-messages-column-thread-replies-count\">\n",
       " <span class=\"lia-message-stats-count\">5</span> Replies\n",
       "     \n",
       "         \n",
       "     \n",
       " </div></td>,\n",
       " <td class=\"customKudosCountColumn lia-data-cell-secondary lia-data-cell-integer\"> <div class=\"custom-grid-kudos\">\n",
       " <span class=\"lia-message-stats-count\">\n",
       " \t\t\t0\n",
       " \t\t</span>\n",
       " \t\tHelpful Votes\n",
       " \t</div>\n",
       " </td>,\n",
       " <td class=\"cViewsCountColumn lia-data-cell-secondary lia-data-cell-integer\"><div class=\"lia-component-messages-column-topic-views-count\">\n",
       " <span class=\"lia-message-stats-count\">819</span>\n",
       "     Views\n",
       " </div></td>,\n",
       " <td aria-label=\"This thread is solved\" class=\"triangletop lia-data-cell-secondary lia-data-cell-icon\"><div class=\"lia-component-common-column-empty-cell\"></div></td>]"
      ]
     },
     "execution_count": 35,
     "metadata": {},
     "output_type": "execute_result"
    }
   ],
   "source": [
    "tds.select()"
   ]
  },
  {
   "cell_type": "code",
   "execution_count": 36,
   "metadata": {
    "collapsed": false
   },
   "outputs": [
    {
     "data": {
      "text/plain": [
       "[<td aria-label=\"This thread is solved\" class=\"triangletop lia-data-cell-secondary lia-data-cell-icon\"><div class=\"lia-component-common-column-empty-cell\"></div></td>]"
      ]
     },
     "execution_count": 36,
     "metadata": {},
     "output_type": "execute_result"
    }
   ],
   "source": [
    "t = links[14]\n",
    "t.select(\"td.triangletop\")"
   ]
  },
  {
   "cell_type": "code",
   "execution_count": 50,
   "metadata": {
    "collapsed": false
   },
   "outputs": [
    {
     "name": "stdout",
     "output_type": "stream",
     "text": [
      "[]\n",
      "[]\n",
      "[]\n",
      "[]\n",
      "[]\n",
      "[]\n",
      "[]\n",
      "[]\n",
      "[]\n",
      "[]\n",
      "[]\n",
      "[<td aria-label=\"This thread is solved\" class=\"triangletop lia-data-cell-secondary lia-data-cell-icon\"><div class=\"lia-component-common-column-empty-cell\"></div></td>]\n",
      "[]\n",
      "[<td aria-label=\"This thread is solved\" class=\"triangletop lia-data-cell-secondary lia-data-cell-icon\"><div class=\"lia-component-common-column-empty-cell\"></div></td>]\n",
      "[<td aria-label=\"This thread is solved\" class=\"triangletop lia-data-cell-secondary lia-data-cell-icon\"><div class=\"lia-component-common-column-empty-cell\"></div></td>]\n"
     ]
    }
   ],
   "source": [
    "for t in links:\n",
    "    print(t.find_all(\"td\",{\"aria-label\" : \"This thread is solved\"}))"
   ]
  },
  {
   "cell_type": "code",
   "execution_count": 55,
   "metadata": {
    "collapsed": false
   },
   "outputs": [],
   "source": [
    "trs = soup.select('div.lia-quilt-column-alley-left tbody tr')\n",
    "n_res = len(trs)\n",
    "    \n",
    "resolved = []\n",
    "for tr in trs:\n",
    "    resolved.append(len(tr.find_all(\"td\",{\"aria-label\" : \"This thread is solved\"})))"
   ]
  },
  {
   "cell_type": "code",
   "execution_count": 56,
   "metadata": {
    "collapsed": false
   },
   "outputs": [
    {
     "data": {
      "text/plain": [
       "[0, 0, 0, 0, 0, 0, 0, 0, 0, 0, 0, 1, 0, 1, 1]"
      ]
     },
     "execution_count": 56,
     "metadata": {},
     "output_type": "execute_result"
    }
   ],
   "source": [
    "resolved"
   ]
  },
  {
   "cell_type": "code",
   "execution_count": null,
   "metadata": {
    "collapsed": true
   },
   "outputs": [],
   "source": []
  }
 ],
 "metadata": {
  "anaconda-cloud": {},
  "kernelspec": {
   "display_name": "Python [conda env:Anaconda3]",
   "language": "python",
   "name": "conda-env-Anaconda3-py"
  },
  "language_info": {
   "codemirror_mode": {
    "name": "ipython",
    "version": 3
   },
   "file_extension": ".py",
   "mimetype": "text/x-python",
   "name": "python",
   "nbconvert_exporter": "python",
   "pygments_lexer": "ipython3",
   "version": "3.5.2"
  }
 },
 "nbformat": 4,
 "nbformat_minor": 2
}
