{
 "cells": [
  {
   "cell_type": "code",
   "execution_count": 1,
   "metadata": {},
   "outputs": [],
   "source": [
    "import seaborn"
   ]
  },
  {
   "cell_type": "code",
   "execution_count": 24,
   "metadata": {},
   "outputs": [
    {
     "name": "stdout",
     "output_type": "stream",
     "text": [
      "\n",
      " SENTIMENT VISUALIZATION\n"
     ]
    },
    {
     "data": {
      "image/png": "[encoded data removed]",
      "text/plain": [
       "<Figure size 648x432 with 1 Axes>"
      ]
     },
     "metadata": {},
     "output_type": "display_data"
    },
    {
     "name": "stdout",
     "output_type": "stream",
     "text": [
      "Sentiment Analyser percentages\n"
     ]
    },
    {
     "data": {
      "text/html": [
       "<div>\n",
       "<style scoped>\n",
       "    .dataframe tbody tr th:only-of-type {\n",
       "        vertical-align: middle;\n",
       "    }\n",
       "\n",
       "    .dataframe tbody tr th {\n",
       "        vertical-align: top;\n",
       "    }\n",
       "\n",
       "    .dataframe thead th {\n",
       "        text-align: right;\n",
       "    }\n",
       "</style>\n",
       "<table border=\"1\" class=\"dataframe\">\n",
       "  <thead>\n",
       "    <tr style=\"text-align: right;\">\n",
       "      <th></th>\n",
       "      <th>topic</th>\n",
       "      <th>positive</th>\n",
       "      <th>negative</th>\n",
       "      <th>neutral</th>\n",
       "    </tr>\n",
       "  </thead>\n",
       "  <tbody>\n",
       "    <tr>\n",
       "      <th>0</th>\n",
       "      <td>WAN</td>\n",
       "      <td>55</td>\n",
       "      <td>15</td>\n",
       "      <td>30</td>\n",
       "    </tr>\n",
       "    <tr>\n",
       "      <th>1</th>\n",
       "      <td>LAN</td>\n",
       "      <td>40</td>\n",
       "      <td>10</td>\n",
       "      <td>50</td>\n",
       "    </tr>\n",
       "    <tr>\n",
       "      <th>2</th>\n",
       "      <td>IP Telephony</td>\n",
       "      <td>70</td>\n",
       "      <td>5</td>\n",
       "      <td>25</td>\n",
       "    </tr>\n",
       "    <tr>\n",
       "      <th>3</th>\n",
       "      <td>Firewalling</td>\n",
       "      <td>60</td>\n",
       "      <td>10</td>\n",
       "      <td>30</td>\n",
       "    </tr>\n",
       "  </tbody>\n",
       "</table>\n",
       "</div>"
      ],
      "text/plain": [
       "          topic  positive  negative  neutral\n",
       "0           WAN        55        15       30\n",
       "1           LAN        40        10       50\n",
       "2  IP Telephony        70         5       25\n",
       "3   Firewalling        60        10       30"
      ]
     },
     "execution_count": 24,
     "metadata": {},
     "output_type": "execute_result"
    }
   ],
   "source": [
    "import numpy as np\n",
    "import matplotlib.pyplot as plt\n",
    "from matplotlib import rc\n",
    "%matplotlib inline\n",
    "import pandas as pd\n",
    " \n",
    "# Data\n",
    "r = [0,1,2,3]\n",
    "raw_data = {'topic':['WAN','LAN','IP Telephony','Firewalling'] ,'positive': [55, 40, 70, 60], 'negative': [15, 10, 5, 10],'neutral': [30, 50, 25, 30]}\n",
    "df = pd.DataFrame(raw_data)\n",
    " \n",
    "# From raw value to percentage\n",
    "totals = [i+j+k for i,j,k in zip(df['positive'], df['negative'], df['neutral'])]\n",
    "positive = [i / j * 100 for i,j in zip(df['positive'], totals)]\n",
    "negative = [i / j * 100 for i,j in zip(df['negative'], totals)]\n",
    "neutral = [i / j * 100 for i,j in zip(df['neutral'], totals)]\n",
    " \n",
    "print(\"\\n SENTIMENT VISUALIZATION\")\n",
    "plt.figure(figsize=(9,6))\n",
    "# plot\n",
    "barWidth = 0.85\n",
    "names = ('WAN','LAN','IP Telephony','Firewalling')\n",
    "# Create green Bars\n",
    "plt.bar(r, positive, color='#b5ffb9', edgecolor='white', width=barWidth, label=\"Positive\")\n",
    "# Create orange Bars\n",
    "plt.bar(r, neutral, bottom=positive, color='#a3acff', edgecolor='white', width=barWidth, label=\"Neutral\")\n",
    "# Create blue Bars\n",
    "plt.bar(r, negative, bottom=[i+j for i,j in zip(positive, neutral)], color='#f9bc86', edgecolor='white', width=barWidth, label=\"Negative\")\n",
    " \n",
    "# Custom x axis\n",
    "plt.xticks(r, names)\n",
    "\n",
    " \n",
    "# Add a legend\n",
    "plt.legend(loc='upper left', bbox_to_anchor=(1,1), ncol=1)\n",
    " \n",
    "# Show graphic\n",
    "\n",
    "plt.show()\n",
    "\n",
    "print(\"Sentiment Analyser percentages\")\n",
    "\n",
    "df.head()\n"
   ]
  },
  {
   "cell_type": "code",
   "execution_count": null,
   "metadata": {},
   "outputs": [],
   "source": []
  }
 ],
 "metadata": {
  "kernelspec": {
   "display_name": "Python 3",
   "language": "python",
   "name": "python3"
  },
  "language_info": {
   "codemirror_mode": {
    "name": "ipython",
    "version": 3
   },
   "file_extension": ".py",
   "mimetype": "text/x-python",
   "name": "python",
   "nbconvert_exporter": "python",
   "pygments_lexer": "ipython3",
   "version": "3.6.5"
  }
 },
 "nbformat": 4,
 "nbformat_minor": 2
}
