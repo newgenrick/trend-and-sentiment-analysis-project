{
 "cells": [
  {
   "cell_type": "code",
   "execution_count": 1,
   "metadata": {
    "collapsed": true
   },
   "outputs": [],
   "source": [
    "import seaborn"
   ]
  },
  {
   "cell_type": "code",
   "execution_count": 2,
   "metadata": {},
   "outputs": [
    {
     "name": "stdout",
     "output_type": "stream",
     "text": [
      "\n",
      " SENTIMENT VISUALIZATION\n"
     ]
    },
    {
     "data": {
      "image/png": "[encoded data removed]",
      "text/plain": [
       "<matplotlib.figure.Figure at 0x2b5dcaa1c88>"
      ]
     },
     "metadata": {},
     "output_type": "display_data"
    },
    {
     "name": "stdout",
     "output_type": "stream",
     "text": [
      "Sentiment Analyser percentages\n"
     ]
    },
    {
     "data": {
      "text/html": [
       "<div>\n",
       "<style scoped>\n",
       "    .dataframe tbody tr th:only-of-type {\n",
       "        vertical-align: middle;\n",
       "    }\n",
       "\n",
       "    .dataframe tbody tr th {\n",
       "        vertical-align: top;\n",
       "    }\n",
       "\n",
       "    .dataframe thead th {\n",
       "        text-align: right;\n",
       "    }\n",
       "</style>\n",
       "<table border=\"1\" class=\"dataframe\">\n",
       "  <thead>\n",
       "    <tr style=\"text-align: right;\">\n",
       "      <th></th>\n",
       "      <th>negative</th>\n",
       "      <th>neutral</th>\n",
       "      <th>positive</th>\n",
       "      <th>topic</th>\n",
       "    </tr>\n",
       "  </thead>\n",
       "  <tbody>\n",
       "    <tr>\n",
       "      <th>0</th>\n",
       "      <td>20</td>\n",
       "      <td>70</td>\n",
       "      <td>10</td>\n",
       "      <td>WAN</td>\n",
       "    </tr>\n",
       "    <tr>\n",
       "      <th>1</th>\n",
       "      <td>10</td>\n",
       "      <td>75</td>\n",
       "      <td>15</td>\n",
       "      <td>LAN</td>\n",
       "    </tr>\n",
       "    <tr>\n",
       "      <th>2</th>\n",
       "      <td>12</td>\n",
       "      <td>84</td>\n",
       "      <td>10</td>\n",
       "      <td>IP Telephony</td>\n",
       "    </tr>\n",
       "    <tr>\n",
       "      <th>3</th>\n",
       "      <td>22</td>\n",
       "      <td>80</td>\n",
       "      <td>12</td>\n",
       "      <td>Firewalling</td>\n",
       "    </tr>\n",
       "  </tbody>\n",
       "</table>\n",
       "</div>"
      ],
      "text/plain": [
       "   negative  neutral  positive         topic\n",
       "0        20       70        10           WAN\n",
       "1        10       75        15           LAN\n",
       "2        12       84        10  IP Telephony\n",
       "3        22       80        12   Firewalling"
      ]
     },
     "execution_count": 2,
     "metadata": {},
     "output_type": "execute_result"
    }
   ],
   "source": [
    "import numpy as np\n",
    "import matplotlib.pyplot as plt\n",
    "from matplotlib import rc\n",
    "%matplotlib inline\n",
    "import pandas as pd\n",
    " \n",
    "# Data\n",
    "r = [0,1,2,3]\n",
    "raw_data = {'topic':['WAN','LAN','IP Telephony','Firewalling'] ,'positive': [10, 15, 10, 12], 'negative': [20, 10, 12, 22],'neutral': [70, 75, 84, 80]}\n",
    "df = pd.DataFrame(raw_data)\n",
    " \n",
    "# From raw value to percentage\n",
    "totals = [i+j+k for i,j,k in zip(df['positive'], df['negative'], df['neutral'])]\n",
    "positive = [i / j * 100 for i,j in zip(df['positive'], totals)]\n",
    "negative = [i / j * 100 for i,j in zip(df['negative'], totals)]\n",
    "neutral = [i / j * 100 for i,j in zip(df['neutral'], totals)]\n",
    " \n",
    "print(\"\\n SENTIMENT VISUALIZATION\")\n",
    "plt.figure(figsize=(9,6))\n",
    "# plot\n",
    "barWidth = 0.85\n",
    "names = ('WAN','LAN','IP Telephony','Firewalling')\n",
    "# Create green Bars\n",
    "plt.bar(r, positive, color='#b5ffb9', edgecolor='white', width=barWidth, label=\"Positive\")\n",
    "# Create orange Bars\n",
    "plt.bar(r, neutral, bottom=positive, color='#a3acff', edgecolor='white', width=barWidth, label=\"Neutral\")\n",
    "# Create blue Bars\n",
    "plt.bar(r, negative, bottom=[i+j for i,j in zip(positive, neutral)], color='#f9bc86', edgecolor='white', width=barWidth, label=\"Negative\")\n",
    " \n",
    "# Custom x axis\n",
    "plt.xticks(r, names)\n",
    "\n",
    " \n",
    "# Add a legend\n",
    "plt.legend(loc='upper left', bbox_to_anchor=(1,1), ncol=1)\n",
    " \n",
    "# Show graphic\n",
    "\n",
    "plt.show()\n",
    "\n",
    "print(\"Sentiment Analyser percentages\")\n",
    "\n",
    "df.head()\n"
   ]
  },
  {
   "cell_type": "code",
   "execution_count": 1,
   "metadata": {},
   "outputs": [
    {
     "name": "stdout",
     "output_type": "stream",
     "text": [
      "\n",
      " SENTIMENT VISUALIZATION\n"
     ]
    },
    {
     "data": {
      "image/png": "[encoded data removed]",
      "text/plain": [
       "<Figure size 648x432 with 1 Axes>"
      ]
     },
     "metadata": {},
     "output_type": "display_data"
    },
    {
     "name": "stdout",
     "output_type": "stream",
     "text": [
      "Sentiment Analyser percentages\n"
     ]
    },
    {
     "data": {
      "text/html": [
       "<div>\n",
       "<style scoped>\n",
       "    .dataframe tbody tr th:only-of-type {\n",
       "        vertical-align: middle;\n",
       "    }\n",
       "\n",
       "    .dataframe tbody tr th {\n",
       "        vertical-align: top;\n",
       "    }\n",
       "\n",
       "    .dataframe thead th {\n",
       "        text-align: right;\n",
       "    }\n",
       "</style>\n",
       "<table border=\"1\" class=\"dataframe\">\n",
       "  <thead>\n",
       "    <tr style=\"text-align: right;\">\n",
       "      <th></th>\n",
       "      <th>topic</th>\n",
       "      <th>positive</th>\n",
       "      <th>negative</th>\n",
       "      <th>neutral</th>\n",
       "    </tr>\n",
       "  </thead>\n",
       "  <tbody>\n",
       "    <tr>\n",
       "      <th>0</th>\n",
       "      <td>WAN</td>\n",
       "      <td>10</td>\n",
       "      <td>20</td>\n",
       "      <td>70</td>\n",
       "    </tr>\n",
       "    <tr>\n",
       "      <th>1</th>\n",
       "      <td>LAN</td>\n",
       "      <td>15</td>\n",
       "      <td>10</td>\n",
       "      <td>75</td>\n",
       "    </tr>\n",
       "    <tr>\n",
       "      <th>2</th>\n",
       "      <td>IP Telephony</td>\n",
       "      <td>10</td>\n",
       "      <td>12</td>\n",
       "      <td>84</td>\n",
       "    </tr>\n",
       "    <tr>\n",
       "      <th>3</th>\n",
       "      <td>Firewalling</td>\n",
       "      <td>12</td>\n",
       "      <td>22</td>\n",
       "      <td>80</td>\n",
       "    </tr>\n",
       "  </tbody>\n",
       "</table>\n",
       "</div>"
      ],
      "text/plain": [
       "          topic  positive  negative  neutral\n",
       "0           WAN        10        20       70\n",
       "1           LAN        15        10       75\n",
       "2  IP Telephony        10        12       84\n",
       "3   Firewalling        12        22       80"
      ]
     },
     "execution_count": 1,
     "metadata": {},
     "output_type": "execute_result"
    }
   ],
   "source": [
    "import numpy as np\n",
    "import matplotlib.pyplot as plt\n",
    "from matplotlib import rc\n",
    "%matplotlib inline\n",
    "import pandas as pd\n",
    " \n",
    "# Data\n",
    "r = [0,1,2,3]\n",
    "raw_data = {'topic':['WAN','LAN','IP Telephony','Firewalling'] ,'positive': [10, 15, 10, 12], 'negative': [20, 10, 12, 22],'neutral': [70, 75, 84, 80]}\n",
    "df = pd.DataFrame(raw_data)\n",
    " \n",
    "# From raw value to percentage\n",
    "totals = [i+j+k for i,j,k in zip(df['positive'], df['negative'], df['neutral'])]\n",
    "positive = [i / j * 100 for i,j in zip(df['positive'], totals)]\n",
    "negative = [i / j * 100 for i,j in zip(df['negative'], totals)]\n",
    "neutral = [i / j * 100 for i,j in zip(df['neutral'], totals)]\n",
    " \n",
    "print(\"\\n SENTIMENT VISUALIZATION\")\n",
    "plt.figure(figsize=(9,6))\n",
    "# plot\n",
    "barWidth = 0.85\n",
    "names = ('WAN','LAN','IP Telephony','Firewalling')\n",
    "# Create green Bars\n",
    "plt.bar(r, positive, color='#b5ffb9', edgecolor='white', width=barWidth, label=\"Positive\")\n",
    "# Create orange Bars\n",
    "plt.bar(r, neutral, bottom=positive, color='#a3acff', edgecolor='white', width=barWidth, label=\"Neutral\")\n",
    "# Create blue Bars\n",
    "plt.bar(r, negative, bottom=[i+j for i,j in zip(positive, neutral)], color='#f9bc86', edgecolor='white', width=barWidth, label=\"Negative\")\n",
    " \n",
    "# Custom x axis\n",
    "plt.xticks(r, names)\n",
    "\n",
    " \n",
    "# Add a legend\n",
    "plt.legend(loc='upper left', bbox_to_anchor=(1,1), ncol=1)\n",
    " \n",
    "# Show graphic\n",
    "\n",
    "plt.show()\n",
    "\n",
    "print(\"Sentiment Analyser percentages\")\n",
    "\n",
    "df.head()\n"
   ]
  },
  {
   "cell_type": "code",
   "execution_count": null,
   "metadata": {
    "collapsed": true
   },
   "outputs": [],
   "source": []
  }
 ],
 "metadata": {
  "anaconda-cloud": {},
  "kernelspec": {
   "display_name": "Python 3",
   "language": "python",
   "name": "python3"
  },
  "language_info": {
   "codemirror_mode": {
    "name": "ipython",
    "version": 3
   },
   "file_extension": ".py",
   "mimetype": "text/x-python",
   "name": "python",
   "nbconvert_exporter": "python",
   "pygments_lexer": "ipython3",
   "version": "3.6.5"
  }
 },
 "nbformat": 4,
 "nbformat_minor": 2
}
