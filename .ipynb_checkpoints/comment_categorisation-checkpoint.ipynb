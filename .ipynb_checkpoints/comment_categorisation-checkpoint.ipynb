{
 "cells": [
  {
   "cell_type": "code",
   "execution_count": 1,
   "metadata": {
    "collapsed": true
   },
   "outputs": [],
   "source": [
    "import nltk\n",
    "from collections import Counter\n",
    "import math\n",
    "import pickle\n",
    "from collections import OrderedDict\n",
    "from nltk.stem.porter import PorterStemmer\n",
    "from nltk.corpus import stopwords\n",
    "import string"
   ]
  },
  {
   "cell_type": "code",
   "execution_count": 3,
   "metadata": {
    "collapsed": false
   },
   "outputs": [],
   "source": [
    "data = pickle.load( open( \"comments\", \"rb\" ) ,encoding='latin1')\n",
    "comments = data['comments']"
   ]
  },
  {
   "cell_type": "code",
   "execution_count": 4,
   "metadata": {
    "collapsed": true
   },
   "outputs": [],
   "source": [
    "documents = []\n",
    "for comment in comments:\n",
    "    str_comment  = ''\n",
    "    for sentence in comment:\n",
    "        str_comment += sentence  \n",
    "    documents.append(str_comment)"
   ]
  },
  {
   "cell_type": "code",
   "execution_count": 5,
   "metadata": {
    "collapsed": false
   },
   "outputs": [
    {
     "data": {
      "text/plain": [
       "'Hello,I will try to build a small LAB for my studies (including CCNA and CCNP certification) but I am surrounded by 2 questions.1-Is this equipment sufficient for a LAB in order to pass certifications CCNA and CCNP ?2-Can I use a etherswitch (NM-16ESW) as a normal switch to link it at computer, D-Link Switch etc...If not, what type of modul I need to use ?Otherwise, can I also use it as a WAN socket like the 2 sockets already here in the Cisco router 1821 ?My existing equipments :-D-Link Switch DGS-1216T 16 port 10/100/1000 (actually in use, but full)-My PC (for test ^^)-A Server with 6 Ethernet sockets (for VMs with VMware, 16 core 72Go RAM)-My Bouygue router (given by my FAI, in french)-A 4G router of Huawei (better than my adsl ^^)The equipments that I want to buy to try it and for my studies :-Cisco router 2821 -Cisco router 1821 -Cisco Switch WS-C2960G-24TC-L (24 ports 10/100/1000 to replace my D-link)Sincerely Thomas'"
      ]
     },
     "execution_count": 5,
     "metadata": {},
     "output_type": "execute_result"
    }
   ],
   "source": [
    "documents[1]"
   ]
  },
  {
   "cell_type": "code",
   "execution_count": 67,
   "metadata": {
    "collapsed": true
   },
   "outputs": [],
   "source": [
    "def comment_cleaner(comment):\n",
    "    \n",
    "    words = nltk.word_tokenize(comment)\n",
    "    words = [word.lower() for word in words if word.isalpha()]\n",
    "    table = str.maketrans('', '', string.punctuation)\n",
    "    words = [word.translate(table) for word in words]\n",
    "    words = [word for word in words if word.isalpha()]\n",
    "    \n",
    "    word_tags = nltk.pos_tag(words)\n",
    "    \n",
    "    words = [word for word,tag in word_tags if tag in ('NN','JJ','NNP','NNS','NNPS')]\n",
    "    #words.extend([word[-1] for word,tag in word_tags if tag in ('NNS','NNPS')])\n",
    "    # filter out stop words\n",
    "    stop_words = set(stopwords.words('english'))\n",
    "    words = [word for word in words if not word in stop_words]\n",
    "    # stemming of words\n",
    "    #lemma = nltk.stem.wordnet.WordNetLemmatizer()\n",
    "    #words = [lemma.lemmatize(word) for word in words]\n",
    "        \n",
    "    #porter = PorterStemmer()\n",
    "    #words = [porter.stem(word) for word in words]\n",
    "    cleaned_comment = ' '.join(words)\n",
    "    \n",
    "    return cleaned_comment"
   ]
  },
  {
   "cell_type": "code",
   "execution_count": 68,
   "metadata": {
    "collapsed": false
   },
   "outputs": [
    {
     "data": {
      "text/plain": [
       "'hello small lab studies ccna ccnp certification equipment sufficient lab order certifications ccna ccnp etherswitch normal switch computer switch etc type modul wan socket sockets cisco router equipments port use full pc test server ethernet sockets vms vmware core ram bouygue router fai french router huawei adsl equipments studies router switch ports'"
      ]
     },
     "execution_count": 68,
     "metadata": {},
     "output_type": "execute_result"
    }
   ],
   "source": [
    "comment_cleaner(documents[1])"
   ]
  },
  {
   "cell_type": "code",
   "execution_count": 69,
   "metadata": {
    "collapsed": false
   },
   "outputs": [
    {
     "name": "stdout",
     "output_type": "stream",
     "text": [
      "showing info https://raw.githubusercontent.com/nltk/nltk_data/gh-pages/index.xml\n"
     ]
    },
    {
     "data": {
      "text/plain": [
       "True"
      ]
     },
     "execution_count": 69,
     "metadata": {},
     "output_type": "execute_result"
    }
   ],
   "source": [
    "nltk.download()"
   ]
  },
  {
   "cell_type": "code",
   "execution_count": 70,
   "metadata": {
    "collapsed": true
   },
   "outputs": [],
   "source": [
    "cleaned_comments = []\n",
    "\n",
    "for i in range(len(documents)):\n",
    "    cleaned_comments.append(comment_cleaner(documents[i]))"
   ]
  },
  {
   "cell_type": "code",
   "execution_count": 71,
   "metadata": {
    "collapsed": false
   },
   "outputs": [
    {
     "data": {
      "text/plain": [
       "351"
      ]
     },
     "execution_count": 71,
     "metadata": {},
     "output_type": "execute_result"
    }
   ],
   "source": [
    "len(cleaned_comments)"
   ]
  },
  {
   "cell_type": "code",
   "execution_count": 72,
   "metadata": {
    "collapsed": false
   },
   "outputs": [
    {
     "data": {
      "text/plain": [
       "42157"
      ]
     },
     "execution_count": 72,
     "metadata": {},
     "output_type": "execute_result"
    }
   ],
   "source": [
    "all_comments = \" \".join(cleaned_comments)\n",
    "all_words = all_comments.split()\n",
    "len(all_words)"
   ]
  },
  {
   "cell_type": "code",
   "execution_count": 94,
   "metadata": {
    "collapsed": false
   },
   "outputs": [
    {
     "name": "stdout",
     "output_type": "stream",
     "text": [
      "[('ip', 811), ('action', 591), ('interface', 524), ('command', 493), ('address', 453), ('cli', 397), ('switch', 360), ('vlan', 335), ('cisco', 333), ('router', 303), ('network', 257), ('access', 249), ('port', 228), ('config', 197), ('mode', 177), ('configuration', 176), ('default', 170), ('event', 164), ('dhcp', 156), ('traffic', 147), ('host', 140), ('enable', 139), ('server', 138), ('switchport', 133)]\n"
     ]
    }
   ],
   "source": [
    "most_common = Counter(all_words).most_common(25)[1:]\n",
    "print(most_common)"
   ]
  },
  {
   "cell_type": "code",
   "execution_count": 86,
   "metadata": {
    "collapsed": false
   },
   "outputs": [],
   "source": [
    "import warnings\n",
    "warnings.filterwarnings(action='ignore', category=UserWarning, module='gensim')\n",
    "from gensim.models import Word2Vec\n",
    "sentences = [cleaned_comment.split() for cleaned_comment in cleaned_comments]\n",
    "model = Word2Vec(sentences,min_count = 1)"
   ]
  },
  {
   "cell_type": "code",
   "execution_count": 95,
   "metadata": {
    "collapsed": false
   },
   "outputs": [
    {
     "name": "stdout",
     "output_type": "stream",
     "text": [
      "Word2Vec(vocab=4855, size=100, alpha=0.025)\n"
     ]
    },
    {
     "data": {
      "text/plain": [
       "4855"
      ]
     },
     "execution_count": 95,
     "metadata": {},
     "output_type": "execute_result"
    }
   ],
   "source": [
    "print(model)\n",
    "words = list(model.wv.vocab)\n",
    "len(words)"
   ]
  },
  {
   "cell_type": "code",
   "execution_count": 92,
   "metadata": {
    "collapsed": false
   },
   "outputs": [
    {
     "data": {
      "text/plain": [
       "[('access', 0.999765157699585),\n",
       " ('gigabitethernet', 0.998358964920044),\n",
       " ('shutdown', 0.9979077577590942),\n",
       " ('ip', 0.9974843859672546),\n",
       " ('description', 0.9971861839294434)]"
      ]
     },
     "execution_count": 92,
     "metadata": {},
     "output_type": "execute_result"
    }
   ],
   "source": [
    "model.most_similar(\"vlan\",topn=5)"
   ]
  },
  {
   "cell_type": "code",
   "execution_count": 103,
   "metadata": {
    "collapsed": false
   },
   "outputs": [],
   "source": [
    "most_similar = dict()\n",
    "for i in range(len(most_common)):\n",
    "    \n",
    "    sim_words = model.most_similar(most_common[i][0],topn=5)\n",
    "    \n",
    "    most_similar[most_common[i][0]] = [word for word,_ in sim_words]"
   ]
  },
  {
   "cell_type": "code",
   "execution_count": 108,
   "metadata": {
    "collapsed": false
   },
   "outputs": [
    {
     "name": "stdout",
     "output_type": "stream",
     "text": [
      "\tnetwork\t\t:\t['hi', 'prefix', 'hello', 'wan', 'lan']\n",
      "\tcisco\t\t:\t['different', 'ios', 'configuration', 'connection', 'version']\n",
      "\tmode\t\t:\t['trunk', 'native', 'debug', 'config', 'nat']\n",
      "\tswitch\t\t:\t['server', 'traffic', 'switches', 'site', 'list']\n",
      "\taction\t\t:\t['command', 'conf', 'cli', 'intf', 'enable']\n",
      "\tswitchport\t\t:\t['portfast', 'accessâ', 'interface', 'cli', 'action']\n",
      "\tinterface\t\t:\t['rip', 'accessâ', 'vlan', 'downâ', 'enable']\n",
      "\taddress\t\t:\t['nat', 'static', 'gateway', 'trunk', 'source']\n",
      "\tcommand\t\t:\t['action', 'intf', 'enable', 'conf', 'intfâ']\n",
      "\ttraffic\t\t:\t['switches', 'server', 'switch', 'http', 'request']\n",
      "\thost\t\t:\t['tcp', 'eq', 'dhcp', 'nat', 'tunnel']\n",
      "\tip\t\t:\t['shutdown', 'access', 'description', 'autoâ', 'vlan']\n",
      "\tdhcp\t\t:\t['tcp', 'auto', 'nat', 'tunnel', 'address']\n",
      "\tevent\t\t:\t['manager', 'end', 'pattern', 'applet', 'route']\n",
      "\tconfiguration\t\t:\t['able', 'devices', 'something', 'case', 'different']\n",
      "\tserver\t\t:\t['switch', 'traffic', 'list', 'switches', 'profile']\n",
      "\tvlan\t\t:\t['access', 'gigabitethernet', 'shutdown', 'ip', 'description']\n",
      "\tcli\t\t:\t['conf', 'action', 'iface', 'command', 'portfast']\n",
      "\tdefault\t\t:\t['problem', 'error', 'user', 'use', 'following']\n",
      "\taccess\t\t:\t['vlan', 'shutdown', 'description', 'gigabitethernet', 'ip']\n",
      "\tport\t\t:\t['able', 'configuration', 'connection', 'setup', 'devices']\n",
      "\trouter\t\t:\t['asa', 'client', 'devices', 'able', 'side']\n",
      "\tconfig\t\t:\t['cdp', 'vlanâ', 'regex', 'show', 'mode']\n",
      "\tenable\t\t:\t['intf', 'regexp', 'intfâ', 'command', 'gigabitethernet']\n"
     ]
    }
   ],
   "source": [
    "for key,list in most_similar.items():\n",
    "    print(\"\\t\"+key + \"\\t\\t:\\t\"+str(list))"
   ]
  },
  {
   "cell_type": "code",
   "execution_count": null,
   "metadata": {
    "collapsed": true
   },
   "outputs": [],
   "source": []
  }
 ],
 "metadata": {
  "anaconda-cloud": {},
  "kernelspec": {
   "display_name": "Python [conda env:Anaconda3]",
   "language": "python",
   "name": "conda-env-Anaconda3-py"
  },
  "language_info": {
   "codemirror_mode": {
    "name": "ipython",
    "version": 3
   },
   "file_extension": ".py",
   "mimetype": "text/x-python",
   "name": "python",
   "nbconvert_exporter": "python",
   "pygments_lexer": "ipython3",
   "version": "3.5.2"
  }
 },
 "nbformat": 4,
 "nbformat_minor": 2
}
